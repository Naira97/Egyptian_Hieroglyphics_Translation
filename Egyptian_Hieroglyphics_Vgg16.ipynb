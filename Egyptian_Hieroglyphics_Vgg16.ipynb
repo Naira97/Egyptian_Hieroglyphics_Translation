{
  "cells": [
    {
      "cell_type": "markdown",
      "source": [
        "# **Imports**"
      ],
      "metadata": {
        "id": "KUh4JtYjuWan"
      }
    },
    {
      "cell_type": "code",
      "execution_count": null,
      "metadata": {
        "colab": {
          "base_uri": "https://localhost:8080/"
        },
        "id": "co8Idz7LCYMR",
        "outputId": "559170ca-ad83-469c-99c4-a1129e491b3e"
      },
      "outputs": [
        {
          "output_type": "stream",
          "name": "stdout",
          "text": [
            "Looking in indexes: https://pypi.org/simple, https://us-python.pkg.dev/colab-wheels/public/simple/\n",
            "Requirement already satisfied: keras in /usr/local/lib/python3.7/dist-packages (2.8.0)\n"
          ]
        }
      ],
      "source": [
        "import numpy as np\n",
        "import tensorflow as tf\n",
        "from tensorflow import keras\n",
        "from keras.callbacks import EarlyStopping\n",
        "from keras.models import * \n",
        "from keras.layers import * \n",
        "from keras.preprocessing import image\n",
        "import PIL\n",
        "from keras import optimizers, losses\n",
        "from keras.optimizers import *\n",
        "import os\n",
        "from keras import Sequential\n",
        "from keras import layers\n",
        "from tensorflow.keras.optimizers import Adam\n",
        "from keras.preprocessing.image import ImageDataGenerator\n",
        "from sklearn.metrics import confusion_matrix\n",
        "import matplotlib.pyplot as plt\n"
      ]
    },
    {
      "cell_type": "markdown",
      "source": [
        "# **Get & Preprocess Data**"
      ],
      "metadata": {
        "id": "R93C68wZucz7"
      }
    },
    {
      "cell_type": "code",
      "execution_count": null,
      "metadata": {
        "colab": {
          "base_uri": "https://localhost:8080/"
        },
        "id": "JA0d0sT6JjyE",
        "outputId": "23acfd3e-563a-4d8e-b910-4252febe1f83"
      },
      "outputs": [
        {
          "output_type": "stream",
          "name": "stdout",
          "text": [
            "Found 3890 images belonging to 95 classes.\n",
            "Found 1039 images belonging to 95 classes.\n"
          ]
        }
      ],
      "source": [
        "from google.colab import drive\n",
        "drive.mount('/content/drive')\n",
        "\n",
        "train_datagen = ImageDataGenerator(rescale=1./255)\n",
        "test_datagen = ImageDataGenerator(rescale=1./255)\n",
        "\n",
        "train_set = train_datagen.flow_from_directory('/content/drive/MyDrive/GP NTI/Train',\n",
        "        target_size=(224, 224), batch_size=64,class_mode='categorical',shuffle=False)\n",
        "\n",
        "test_set = test_datagen.flow_from_directory('/content/drive/MyDrive/GP NTI/Test',\n",
        "            target_size=(224, 224), batch_size=64,class_mode='categorical',shuffle=False)\n"
      ]
    },
    {
      "cell_type": "code",
      "execution_count": null,
      "metadata": {
        "id": "_PQoYrxcAcqr"
      },
      "outputs": [],
      "source": [
        "train_path = \"/content/drive/MyDrive/GP NTI/Train\"\n",
        "test_path = \"/content/drive/MyDrive/GP NTI/Test\""
      ]
    },
    {
      "cell_type": "code",
      "execution_count": null,
      "metadata": {
        "colab": {
          "base_uri": "https://localhost:8080/"
        },
        "id": "tRhyfkF6Mhha",
        "outputId": "499dd4a5-c35d-4c27-a86d-2a01f985a992"
      },
      "outputs": [
        {
          "output_type": "execute_result",
          "data": {
            "text/plain": [
              "{'100': 0,\n",
              " 'Angry': 1,\n",
              " 'Bury': 2,\n",
              " 'among': 3,\n",
              " 'ankh': 4,\n",
              " 'aroura': 5,\n",
              " 'at': 6,\n",
              " 'bad thinking': 7,\n",
              " 'bandage': 8,\n",
              " 'bee': 9,\n",
              " 'belong': 10,\n",
              " 'birth': 11,\n",
              " 'board game': 12,\n",
              " 'book': 13,\n",
              " 'boy': 14,\n",
              " 'branch': 15,\n",
              " 'bread': 16,\n",
              " 'brewer': 17,\n",
              " 'builder': 18,\n",
              " 'canal': 19,\n",
              " 'cloth on pole': 20,\n",
              " 'cobra': 21,\n",
              " 'composite_bow': 22,\n",
              " 'cooked': 23,\n",
              " 'corpse': 24,\n",
              " 'dessert': 25,\n",
              " 'divide': 26,\n",
              " 'duck': 27,\n",
              " 'elephant': 28,\n",
              " 'enclosed mound': 29,\n",
              " 'eye': 30,\n",
              " 'fabric': 31,\n",
              " 'face': 32,\n",
              " 'falcon': 33,\n",
              " 'fingre': 34,\n",
              " 'fish': 35,\n",
              " 'flail': 36,\n",
              " 'folded': 37,\n",
              " 'foot': 38,\n",
              " 'galena': 39,\n",
              " 'giraffe': 40,\n",
              " 'he': 41,\n",
              " 'her': 42,\n",
              " 'hit': 43,\n",
              " 'horn': 44,\n",
              " 'king': 45,\n",
              " 'leg': 46,\n",
              " 'length of a human arm': 47,\n",
              " 'life spirit': 48,\n",
              " 'limits': 49,\n",
              " 'lion': 50,\n",
              " 'lizard': 51,\n",
              " 'loaf': 52,\n",
              " 'loaf of bread': 53,\n",
              " 'man': 54,\n",
              " 'mascot': 55,\n",
              " 'meet': 56,\n",
              " 'mother': 57,\n",
              " 'mouth': 58,\n",
              " 'musical instrument': 59,\n",
              " 'nile fish': 60,\n",
              " 'not': 61,\n",
              " 'now': 62,\n",
              " 'nurse': 63,\n",
              " 'nursing': 64,\n",
              " 'occur': 65,\n",
              " 'one': 66,\n",
              " 'owl': 67,\n",
              " 'pair': 68,\n",
              " 'papyrus scroll': 69,\n",
              " 'pool': 70,\n",
              " 'quailchick': 71,\n",
              " 'reed': 72,\n",
              " 'ring': 73,\n",
              " 'rope': 74,\n",
              " 'ruler': 75,\n",
              " 'sail': 76,\n",
              " 'sandal': 77,\n",
              " 'semen': 78,\n",
              " 'small ring': 79,\n",
              " 'snake': 80,\n",
              " 'soldier': 81,\n",
              " 'star': 82,\n",
              " 'stick': 83,\n",
              " 'swallow': 84,\n",
              " 'this': 85,\n",
              " 'to be dead': 86,\n",
              " 'to protect': 87,\n",
              " 'to say': 88,\n",
              " 'turtle': 89,\n",
              " 'viper': 90,\n",
              " 'wall': 91,\n",
              " 'water': 92,\n",
              " 'woman': 93,\n",
              " 'you': 94}"
            ]
          },
          "metadata": {},
          "execution_count": 11
        }
      ],
      "source": [
        "train_set.class_indices"
      ]
    },
    {
      "cell_type": "code",
      "execution_count": null,
      "metadata": {
        "colab": {
          "base_uri": "https://localhost:8080/"
        },
        "id": "n1xarTkyCTEH",
        "outputId": "dfea014a-84a3-4ac6-a76f-63fe078cf810"
      },
      "outputs": [
        {
          "output_type": "stream",
          "name": "stdout",
          "text": [
            "Found 3890 files belonging to 95 classes.\n",
            "Using 3501 files for training.\n"
          ]
        }
      ],
      "source": [
        "batch_size = 64\n",
        "imageSize = 224\n",
        "\n",
        "target_dims = (imageSize, imageSize, 3)\n",
        "num_classes = 95\n",
        "\n",
        "train_len = 3890\n",
        "base_dir = os.path.join(os.getcwd(), \"/content/drive/MyDrive/GP NTI\")\n",
        "train_dir = os.path.join(base_dir, '/content/drive/MyDrive/GP NTI/Train')\n",
        "train_ds = tf.keras.utils.image_dataset_from_directory(\n",
        "    train_dir,\n",
        "    validation_split=0.1,\n",
        "    subset=\"training\",\n",
        "    seed=123,\n",
        "    image_size=(imageSize, imageSize),\n",
        "    batch_size=batch_size)\n",
        "              "
      ]
    },
    {
      "cell_type": "code",
      "execution_count": null,
      "metadata": {
        "colab": {
          "base_uri": "https://localhost:8080/"
        },
        "id": "BL6CZZz0Gu_t",
        "outputId": "724d8d2a-7115-4190-86e2-66395b534333"
      },
      "outputs": [
        {
          "output_type": "stream",
          "name": "stdout",
          "text": [
            "Found 3890 files belonging to 95 classes.\n",
            "Using 350 files for validation.\n"
          ]
        }
      ],
      "source": [
        "validation_ds = tf.keras.utils.image_dataset_from_directory(\n",
        "    train_dir,\n",
        "    validation_split=0.09,\n",
        "    subset=\"validation\",\n",
        "    seed=123,\n",
        "    image_size=(imageSize, imageSize),\n",
        "    batch_size=batch_size)"
      ]
    },
    {
      "cell_type": "code",
      "execution_count": null,
      "metadata": {
        "colab": {
          "base_uri": "https://localhost:8080/"
        },
        "id": "aLUxGQjFHI9z",
        "outputId": "852d2c2e-ff11-448b-e090-6aee6d25fa8b"
      },
      "outputs": [
        {
          "output_type": "stream",
          "name": "stdout",
          "text": [
            "Found 3890 files belonging to 95 classes.\n",
            "Using 38 files for validation.\n"
          ]
        }
      ],
      "source": [
        "test_ds = tf.keras.utils.image_dataset_from_directory(\n",
        "    train_dir,\n",
        "    validation_split=0.01,\n",
        "    subset=\"validation\",\n",
        "    seed=123,\n",
        "    image_size=(imageSize, imageSize),\n",
        "    batch_size=batch_size)"
      ]
    },
    {
      "cell_type": "code",
      "execution_count": null,
      "metadata": {
        "colab": {
          "base_uri": "https://localhost:8080/"
        },
        "id": "ImVXOSFGzniC",
        "outputId": "d68f15db-3923-4561-c795-a3bcbae1be70"
      },
      "outputs": [
        {
          "output_type": "execute_result",
          "data": {
            "text/plain": [
              "{'100': 0,\n",
              " 'Her': 1,\n",
              " 'Woman': 2,\n",
              " 'among': 3,\n",
              " 'angry': 4,\n",
              " 'ankh': 5,\n",
              " 'aroura': 6,\n",
              " 'at': 7,\n",
              " 'bad thinking': 8,\n",
              " 'bandage': 9,\n",
              " 'bee': 10,\n",
              " 'belongs': 11,\n",
              " 'birth': 12,\n",
              " 'board game': 13,\n",
              " 'book': 14,\n",
              " 'boy': 15,\n",
              " 'branch': 16,\n",
              " 'bread': 17,\n",
              " 'brewer': 18,\n",
              " 'builder': 19,\n",
              " 'bury': 20,\n",
              " 'canal': 21,\n",
              " 'cloth on pole': 22,\n",
              " 'cobra': 23,\n",
              " 'composite_bow': 24,\n",
              " 'cooked': 25,\n",
              " 'corpse': 26,\n",
              " 'dessert': 27,\n",
              " 'divide': 28,\n",
              " 'duck': 29,\n",
              " 'elephant': 30,\n",
              " 'enclosed mound': 31,\n",
              " 'eye': 32,\n",
              " 'fabric': 33,\n",
              " 'face': 34,\n",
              " 'falcon': 35,\n",
              " 'fingre': 36,\n",
              " 'fish': 37,\n",
              " 'flail': 38,\n",
              " 'folded': 39,\n",
              " 'foot': 40,\n",
              " 'galena': 41,\n",
              " 'giraffe': 42,\n",
              " 'he': 43,\n",
              " 'hit': 44,\n",
              " 'horn': 45,\n",
              " 'king': 46,\n",
              " 'leg': 47,\n",
              " 'length of a human arm': 48,\n",
              " 'life spirit': 49,\n",
              " 'limits': 50,\n",
              " 'lion': 51,\n",
              " 'lizard': 52,\n",
              " 'loaf': 53,\n",
              " 'loaf of bread': 54,\n",
              " 'man': 55,\n",
              " 'mascot': 56,\n",
              " 'meet': 57,\n",
              " 'mother': 58,\n",
              " 'mouth': 59,\n",
              " 'musical instrument': 60,\n",
              " 'nile fish': 61,\n",
              " 'not': 62,\n",
              " 'now': 63,\n",
              " 'nurse': 64,\n",
              " 'nursing': 65,\n",
              " 'occur': 66,\n",
              " 'one': 67,\n",
              " 'owl': 68,\n",
              " 'pair': 69,\n",
              " 'papyrus scroll': 70,\n",
              " 'pool': 71,\n",
              " 'quailchick': 72,\n",
              " 'reed': 73,\n",
              " 'ring': 74,\n",
              " 'rope': 75,\n",
              " 'ruler': 76,\n",
              " 'sail': 77,\n",
              " 'sandal': 78,\n",
              " 'semen': 79,\n",
              " 'small ring': 80,\n",
              " 'snake': 81,\n",
              " 'soldier': 82,\n",
              " 'star': 83,\n",
              " 'stick': 84,\n",
              " 'swallow': 85,\n",
              " 'this': 86,\n",
              " 'to be dead': 87,\n",
              " 'to prodect': 88,\n",
              " 'to say': 89,\n",
              " 'turtle': 90,\n",
              " 'viper': 91,\n",
              " 'wall': 92,\n",
              " 'water': 93,\n",
              " 'you': 94}"
            ]
          },
          "metadata": {},
          "execution_count": 16
        }
      ],
      "source": [
        "test_set.class_indices"
      ]
    },
    {
      "cell_type": "markdown",
      "source": [
        "# **Build Model**"
      ],
      "metadata": {
        "id": "cola_Sx3s2pc"
      }
    },
    {
      "cell_type": "code",
      "execution_count": null,
      "metadata": {
        "colab": {
          "base_uri": "https://localhost:8080/"
        },
        "id": "6kVhzVM60ILy",
        "outputId": "84b034c2-78b7-43c7-d71e-4c42122348d5"
      },
      "outputs": [
        {
          "output_type": "stream",
          "name": "stdout",
          "text": [
            "Downloading data from https://storage.googleapis.com/tensorflow/keras-applications/vgg16/vgg16_weights_tf_dim_ordering_tf_kernels_notop.h5\n",
            "58892288/58889256 [==============================] - 0s 0us/step\n",
            "58900480/58889256 [==============================] - 0s 0us/step\n"
          ]
        }
      ],
      "source": [
        "from tensorflow.keras.applications import vgg16\n",
        "vgg_conv = vgg16.VGG16(weights='imagenet', include_top=False, input_shape=(224, 224, 3))"
      ]
    },
    {
      "cell_type": "code",
      "execution_count": null,
      "metadata": {
        "colab": {
          "base_uri": "https://localhost:8080/"
        },
        "id": "UOitw6mY0P-Q",
        "outputId": "35a4847a-56b6-4ac3-a5e8-62472b9c0297"
      },
      "outputs": [
        {
          "output_type": "stream",
          "name": "stdout",
          "text": [
            "<keras.engine.input_layer.InputLayer object at 0x7f7a70489590> False\n",
            "<keras.layers.convolutional.Conv2D object at 0x7f79f1726f90> False\n",
            "<keras.layers.convolutional.Conv2D object at 0x7f79ef7ce990> False\n",
            "<keras.layers.pooling.MaxPooling2D object at 0x7f79ef6b5810> False\n",
            "<keras.layers.convolutional.Conv2D object at 0x7f79ef6b6f90> False\n",
            "<keras.layers.convolutional.Conv2D object at 0x7f79ef6bd7d0> False\n",
            "<keras.layers.pooling.MaxPooling2D object at 0x7f79ef6c0350> False\n",
            "<keras.layers.convolutional.Conv2D object at 0x7f79ef6c3c90> False\n",
            "<keras.layers.convolutional.Conv2D object at 0x7f79ef6cb310> False\n",
            "<keras.layers.convolutional.Conv2D object at 0x7f79ef6c3210> False\n",
            "<keras.layers.pooling.MaxPooling2D object at 0x7f79ef656410> False\n",
            "<keras.layers.convolutional.Conv2D object at 0x7f79ef65d8d0> False\n",
            "<keras.layers.convolutional.Conv2D object at 0x7f79ef662f10> False\n",
            "<keras.layers.convolutional.Conv2D object at 0x7f79ef6c3b90> False\n",
            "<keras.layers.pooling.MaxPooling2D object at 0x7f79ef6b6f50> False\n",
            "<keras.layers.convolutional.Conv2D object at 0x7f79ef69c410> False\n",
            "<keras.layers.convolutional.Conv2D object at 0x7f79ef6b5b50> False\n",
            "<keras.layers.convolutional.Conv2D object at 0x7f79ef66a510> False\n",
            "<keras.layers.pooling.MaxPooling2D object at 0x7f79ef6732d0> False\n"
          ]
        }
      ],
      "source": [
        "# Freeze all the layers\n",
        "for layer in vgg_conv.layers[:]:\n",
        "    layer.trainable = False\n",
        " # Check the trainable status of the individual layers\n",
        "for layer in vgg_conv.layers:\n",
        "    print(layer, layer.trainable)"
      ]
    },
    {
      "cell_type": "code",
      "execution_count": null,
      "metadata": {
        "colab": {
          "base_uri": "https://localhost:8080/"
        },
        "id": "k1ZIQuW20XZT",
        "outputId": "e54c41dd-e906-408b-a6d8-8b31bc3d38a0"
      },
      "outputs": [
        {
          "output_type": "stream",
          "name": "stdout",
          "text": [
            "Model: \"vgg16\"\n",
            "_________________________________________________________________\n",
            " Layer (type)                Output Shape              Param #   \n",
            "=================================================================\n",
            " input_1 (InputLayer)        [(None, 224, 224, 3)]     0         \n",
            "                                                                 \n",
            " block1_conv1 (Conv2D)       (None, 224, 224, 64)      1792      \n",
            "                                                                 \n",
            " block1_conv2 (Conv2D)       (None, 224, 224, 64)      36928     \n",
            "                                                                 \n",
            " block1_pool (MaxPooling2D)  (None, 112, 112, 64)      0         \n",
            "                                                                 \n",
            " block2_conv1 (Conv2D)       (None, 112, 112, 128)     73856     \n",
            "                                                                 \n",
            " block2_conv2 (Conv2D)       (None, 112, 112, 128)     147584    \n",
            "                                                                 \n",
            " block2_pool (MaxPooling2D)  (None, 56, 56, 128)       0         \n",
            "                                                                 \n",
            " block3_conv1 (Conv2D)       (None, 56, 56, 256)       295168    \n",
            "                                                                 \n",
            " block3_conv2 (Conv2D)       (None, 56, 56, 256)       590080    \n",
            "                                                                 \n",
            " block3_conv3 (Conv2D)       (None, 56, 56, 256)       590080    \n",
            "                                                                 \n",
            " block3_pool (MaxPooling2D)  (None, 28, 28, 256)       0         \n",
            "                                                                 \n",
            " block4_conv1 (Conv2D)       (None, 28, 28, 512)       1180160   \n",
            "                                                                 \n",
            " block4_conv2 (Conv2D)       (None, 28, 28, 512)       2359808   \n",
            "                                                                 \n",
            " block4_conv3 (Conv2D)       (None, 28, 28, 512)       2359808   \n",
            "                                                                 \n",
            " block4_pool (MaxPooling2D)  (None, 14, 14, 512)       0         \n",
            "                                                                 \n",
            " block5_conv1 (Conv2D)       (None, 14, 14, 512)       2359808   \n",
            "                                                                 \n",
            " block5_conv2 (Conv2D)       (None, 14, 14, 512)       2359808   \n",
            "                                                                 \n",
            " block5_conv3 (Conv2D)       (None, 14, 14, 512)       2359808   \n",
            "                                                                 \n",
            " block5_pool (MaxPooling2D)  (None, 7, 7, 512)         0         \n",
            "                                                                 \n",
            "=================================================================\n",
            "Total params: 14,714,688\n",
            "Trainable params: 0\n",
            "Non-trainable params: 14,714,688\n",
            "_________________________________________________________________\n"
          ]
        }
      ],
      "source": [
        "vgg_conv.summary()"
      ]
    },
    {
      "cell_type": "code",
      "execution_count": null,
      "metadata": {
        "id": "jdQS9RGrInVD"
      },
      "outputs": [],
      "source": [
        "# Create the the model\n",
        "model = Sequential()\n",
        "# Add the vgg16 convolutional base model\n",
        "model.add(vgg_conv)\n",
        "\n",
        "def VGG_16(weights_path=None):\n",
        "    model = Sequential()\n",
        "    model.add(ZeroPadding2D((1,1),input_shape=(3,224,224)))\n",
        "    model.add(Convolution2D(64, 3, 3, activation='relu'))\n",
        "    model.add(ZeroPadding2D((1,1)))\n",
        "    model.add(Convolution2D(64, 3, 3, activation='relu'))\n",
        "    model.add(MaxPooling2D((2,2), strides=(2,2)))\n",
        "\n",
        "    model.add(ZeroPadding2D((1,1)))\n",
        "    model.add(Convolution2D(128, 3, 3, activation='relu'))\n",
        "    model.add(ZeroPadding2D((1,1)))\n",
        "    model.add(Convolution2D(128, 3, 3, activation='relu'))\n",
        "    model.add(MaxPooling2D((2,2), strides=(2,2)))\n",
        "\n",
        "    model.add(ZeroPadding2D((1,1)))\n",
        "    model.add(Convolution2D(256, 3, 3, activation='relu'))\n",
        "    model.add(ZeroPadding2D((1,1)))\n",
        "    model.add(Convolution2D(256, 3, 3, activation='relu'))\n",
        "    model.add(ZeroPadding2D((1,1)))\n",
        "    model.add(Convolution2D(256, 3, 3, activation='relu'))\n",
        "    model.add(MaxPooling2D((2,2), strides=(2,2)))"
      ]
    },
    {
      "cell_type": "code",
      "execution_count": null,
      "metadata": {
        "colab": {
          "base_uri": "https://localhost:8080/"
        },
        "id": "MeEhB2d0I74q",
        "outputId": "01063480-5634-4e2c-855d-3b351013c3c1"
      },
      "outputs": [
        {
          "output_type": "stream",
          "name": "stdout",
          "text": [
            "Model: \"vgg16\"\n",
            "_________________________________________________________________\n",
            " Layer (type)                Output Shape              Param #   \n",
            "=================================================================\n",
            " input_1 (InputLayer)        [(None, 224, 224, 3)]     0         \n",
            "                                                                 \n",
            " block1_conv1 (Conv2D)       (None, 224, 224, 64)      1792      \n",
            "                                                                 \n",
            " block1_conv2 (Conv2D)       (None, 224, 224, 64)      36928     \n",
            "                                                                 \n",
            " block1_pool (MaxPooling2D)  (None, 112, 112, 64)      0         \n",
            "                                                                 \n",
            " block2_conv1 (Conv2D)       (None, 112, 112, 128)     73856     \n",
            "                                                                 \n",
            " block2_conv2 (Conv2D)       (None, 112, 112, 128)     147584    \n",
            "                                                                 \n",
            " block2_pool (MaxPooling2D)  (None, 56, 56, 128)       0         \n",
            "                                                                 \n",
            " block3_conv1 (Conv2D)       (None, 56, 56, 256)       295168    \n",
            "                                                                 \n",
            " block3_conv2 (Conv2D)       (None, 56, 56, 256)       590080    \n",
            "                                                                 \n",
            " block3_conv3 (Conv2D)       (None, 56, 56, 256)       590080    \n",
            "                                                                 \n",
            " block3_pool (MaxPooling2D)  (None, 28, 28, 256)       0         \n",
            "                                                                 \n",
            " block4_conv1 (Conv2D)       (None, 28, 28, 512)       1180160   \n",
            "                                                                 \n",
            " block4_conv2 (Conv2D)       (None, 28, 28, 512)       2359808   \n",
            "                                                                 \n",
            " block4_conv3 (Conv2D)       (None, 28, 28, 512)       2359808   \n",
            "                                                                 \n",
            " block4_pool (MaxPooling2D)  (None, 14, 14, 512)       0         \n",
            "                                                                 \n",
            " block5_conv1 (Conv2D)       (None, 14, 14, 512)       2359808   \n",
            "                                                                 \n",
            " block5_conv2 (Conv2D)       (None, 14, 14, 512)       2359808   \n",
            "                                                                 \n",
            " block5_conv3 (Conv2D)       (None, 14, 14, 512)       2359808   \n",
            "                                                                 \n",
            " block5_pool (MaxPooling2D)  (None, 7, 7, 512)         0         \n",
            "                                                                 \n",
            "=================================================================\n",
            "Total params: 14,714,688\n",
            "Trainable params: 0\n",
            "Non-trainable params: 14,714,688\n",
            "_________________________________________________________________\n"
          ]
        }
      ],
      "source": [
        "vgg_conv.summary()"
      ]
    },
    {
      "cell_type": "code",
      "execution_count": null,
      "metadata": {
        "colab": {
          "base_uri": "https://localhost:8080/"
        },
        "id": "WZqqXP1K0ffi",
        "outputId": "e28d972b-c052-4644-ab28-73a3b925c58d"
      },
      "outputs": [
        {
          "output_type": "stream",
          "name": "stdout",
          "text": [
            "Model: \"sequential\"\n",
            "_________________________________________________________________\n",
            " Layer (type)                Output Shape              Param #   \n",
            "=================================================================\n",
            " vgg16 (Functional)          (None, 7, 7, 512)         14714688  \n",
            "                                                                 \n",
            " flatten (Flatten)           (None, 25088)             0         \n",
            "                                                                 \n",
            " dense (Dense)               (None, 1024)              25691136  \n",
            "                                                                 \n",
            " dropout (Dropout)           (None, 1024)              0         \n",
            "                                                                 \n",
            " dense_1 (Dense)             (None, 95)                97375     \n",
            "                                                                 \n",
            "=================================================================\n",
            "Total params: 40,503,199\n",
            "Trainable params: 25,788,511\n",
            "Non-trainable params: 14,714,688\n",
            "_________________________________________________________________\n"
          ]
        }
      ],
      "source": [
        "# Add new layers\n",
        "model.add(Flatten())\n",
        "model.add(Dense(1024, activation='relu'))\n",
        "model.add(Dropout(0.5))\n",
        "model.add(Dense(95, activation='softmax'))\n",
        "# Show a summary of the model. Check the number of trainable parameters\n",
        "model.summary()"
      ]
    },
    {
      "cell_type": "code",
      "source": [
        "from tensorflow.keras.utils import plot_model\n",
        "plot_model(model= model , show_shapes=True)"
      ],
      "metadata": {
        "colab": {
          "base_uri": "https://localhost:8080/",
          "height": 644
        },
        "id": "_0yJFnjzV7j_",
        "outputId": "d5707dc6-231a-4a7b-b66f-a6b21172881f"
      },
      "execution_count": null,
      "outputs": [
        {
          "output_type": "execute_result",
          "data": {
            "image/png": "[encoded data removed]",
            "text/plain": [
              "<IPython.core.display.Image object>"
            ]
          },
          "metadata": {},
          "execution_count": 23
        }
      ]
    },
    {
      "cell_type": "markdown",
      "source": [
        "**Compile Model:**"
      ],
      "metadata": {
        "id": "64HkqSaLtD82"
      }
    },
    {
      "cell_type": "code",
      "execution_count": null,
      "metadata": {
        "id": "WiVW9Wl90nuH"
      },
      "outputs": [],
      "source": [
        "model.compile(loss='sparse_categorical_crossentropy',optimizer=\"adam\",metrics=['acc'])"
      ]
    },
    {
      "cell_type": "code",
      "execution_count": null,
      "metadata": {
        "id": "NbYDUrrv2Ecb"
      },
      "outputs": [],
      "source": [
        "from keras.callbacks import ModelCheckpoint, ReduceLROnPlateau\n",
        "\n",
        "annealer = ReduceLROnPlateau(monitor='acc', factor=0.5, patience=3, verbose=1, min_lr=1e-4)\n",
        "checkpoint = ModelCheckpoint('/temp/{epoch}_VGG16.h5', verbose=1, save_best_only=False, mode='auto', save_freq='epoch')"
      ]
    },
    {
      "cell_type": "markdown",
      "source": [
        "**Train Model**"
      ],
      "metadata": {
        "id": "9u0h9K5AtQJ7"
      }
    },
    {
      "cell_type": "code",
      "execution_count": null,
      "metadata": {
        "colab": {
          "base_uri": "https://localhost:8080/"
        },
        "id": "s-NBLsDb02YX",
        "outputId": "2192a9f6-6bce-40f3-934c-a517e423af6f"
      },
      "outputs": [
        {
          "output_type": "stream",
          "name": "stdout",
          "text": [
            "Epoch 1/25\n",
            "55/55 [==============================] - ETA: 0s - loss: 8.9926 - acc: 0.2348\n",
            "Epoch 1: saving model to /temp/1_VGG16.h5\n",
            "55/55 [==============================] - 678s 10s/step - loss: 8.9926 - acc: 0.2348 - val_loss: 1.6618 - val_acc: 0.6406 - lr: 0.0010\n",
            "Epoch 2/25\n",
            "55/55 [==============================] - ETA: 0s - loss: 1.7562 - acc: 0.5687\n",
            "Epoch 2: saving model to /temp/2_VGG16.h5\n",
            "55/55 [==============================] - 22s 376ms/step - loss: 1.7562 - acc: 0.5687 - val_loss: 0.6456 - val_acc: 0.8125 - lr: 0.0010\n",
            "Epoch 3/25\n",
            "55/55 [==============================] - ETA: 0s - loss: 1.0095 - acc: 0.7509\n",
            "Epoch 3: saving model to /temp/3_VGG16.h5\n",
            "55/55 [==============================] - 21s 367ms/step - loss: 1.0095 - acc: 0.7509 - val_loss: 0.7572 - val_acc: 0.8125 - lr: 0.0010\n",
            "Epoch 4/25\n",
            "55/55 [==============================] - ETA: 0s - loss: 0.7815 - acc: 0.8061\n",
            "Epoch 4: saving model to /temp/4_VGG16.h5\n",
            "55/55 [==============================] - 22s 372ms/step - loss: 0.7815 - acc: 0.8061 - val_loss: 0.3498 - val_acc: 0.9062 - lr: 0.0010\n",
            "Epoch 5/25\n",
            "55/55 [==============================] - ETA: 0s - loss: 0.6966 - acc: 0.8278\n",
            "Epoch 5: saving model to /temp/5_VGG16.h5\n",
            "55/55 [==============================] - 22s 368ms/step - loss: 0.6966 - acc: 0.8278 - val_loss: 0.4910 - val_acc: 0.8594 - lr: 0.0010\n",
            "Epoch 6/25\n",
            "55/55 [==============================] - ETA: 0s - loss: 0.5707 - acc: 0.8555\n",
            "Epoch 6: saving model to /temp/6_VGG16.h5\n",
            "55/55 [==============================] - 21s 362ms/step - loss: 0.5707 - acc: 0.8555 - val_loss: 0.5307 - val_acc: 0.8906 - lr: 0.0010\n",
            "Epoch 7/25\n",
            "55/55 [==============================] - ETA: 0s - loss: 0.5787 - acc: 0.8663\n",
            "Epoch 7: saving model to /temp/7_VGG16.h5\n",
            "55/55 [==============================] - 22s 374ms/step - loss: 0.5787 - acc: 0.8663 - val_loss: 0.7292 - val_acc: 0.8594 - lr: 0.0010\n",
            "Epoch 8/25\n",
            "55/55 [==============================] - ETA: 0s - loss: 0.4458 - acc: 0.8835\n",
            "Epoch 8: saving model to /temp/8_VGG16.h5\n",
            "55/55 [==============================] - 21s 364ms/step - loss: 0.4458 - acc: 0.8835 - val_loss: 0.4066 - val_acc: 0.9219 - lr: 0.0010\n",
            "Epoch 9/25\n",
            "55/55 [==============================] - ETA: 0s - loss: 0.4772 - acc: 0.8897\n",
            "Epoch 9: saving model to /temp/9_VGG16.h5\n",
            "55/55 [==============================] - 22s 376ms/step - loss: 0.4772 - acc: 0.8897 - val_loss: 0.5763 - val_acc: 0.8750 - lr: 0.0010\n",
            "Epoch 10/25\n",
            "55/55 [==============================] - ETA: 0s - loss: 0.5323 - acc: 0.8792\n",
            "Epoch 10: saving model to /temp/10_VGG16.h5\n",
            "55/55 [==============================] - 21s 365ms/step - loss: 0.5323 - acc: 0.8792 - val_loss: 0.1559 - val_acc: 0.9375 - lr: 0.0010\n",
            "Epoch 11/25\n",
            "55/55 [==============================] - ETA: 0s - loss: 0.4831 - acc: 0.8926\n",
            "Epoch 11: saving model to /temp/11_VGG16.h5\n",
            "55/55 [==============================] - 22s 373ms/step - loss: 0.4831 - acc: 0.8926 - val_loss: 0.3726 - val_acc: 0.9375 - lr: 0.0010\n",
            "Epoch 12/25\n",
            "55/55 [==============================] - ETA: 0s - loss: 0.4407 - acc: 0.9060\n",
            "Epoch 12: saving model to /temp/12_VGG16.h5\n",
            "55/55 [==============================] - 21s 368ms/step - loss: 0.4407 - acc: 0.9060 - val_loss: 1.1180 - val_acc: 0.8906 - lr: 0.0010\n",
            "Epoch 13/25\n",
            "55/55 [==============================] - ETA: 0s - loss: 0.4610 - acc: 0.9035\n",
            "Epoch 13: saving model to /temp/13_VGG16.h5\n",
            "55/55 [==============================] - 22s 370ms/step - loss: 0.4610 - acc: 0.9035 - val_loss: 0.1395 - val_acc: 0.9688 - lr: 0.0010\n",
            "Epoch 14/25\n",
            "55/55 [==============================] - ETA: 0s - loss: 0.4452 - acc: 0.9015\n",
            "Epoch 14: saving model to /temp/14_VGG16.h5\n",
            "55/55 [==============================] - 22s 369ms/step - loss: 0.4452 - acc: 0.9015 - val_loss: 0.5715 - val_acc: 0.9219 - lr: 0.0010\n",
            "Epoch 15/25\n",
            "55/55 [==============================] - ETA: 0s - loss: 0.4188 - acc: 0.9169\n",
            "Epoch 15: saving model to /temp/15_VGG16.h5\n",
            "55/55 [==============================] - 22s 379ms/step - loss: 0.4188 - acc: 0.9169 - val_loss: 0.1930 - val_acc: 0.9375 - lr: 0.0010\n",
            "Epoch 16/25\n",
            "55/55 [==============================] - ETA: 0s - loss: 0.4136 - acc: 0.9149\n",
            "Epoch 16: saving model to /temp/16_VGG16.h5\n",
            "55/55 [==============================] - 22s 375ms/step - loss: 0.4136 - acc: 0.9149 - val_loss: 0.3231 - val_acc: 0.9531 - lr: 0.0010\n",
            "Epoch 17/25\n",
            "55/55 [==============================] - ETA: 0s - loss: 0.3630 - acc: 0.9320\n",
            "Epoch 17: saving model to /temp/17_VGG16.h5\n",
            "55/55 [==============================] - 22s 369ms/step - loss: 0.3630 - acc: 0.9320 - val_loss: 0.1812 - val_acc: 0.9688 - lr: 0.0010\n",
            "Epoch 18/25\n",
            "55/55 [==============================] - ETA: 0s - loss: 0.4930 - acc: 0.9155\n",
            "Epoch 18: saving model to /temp/18_VGG16.h5\n",
            "55/55 [==============================] - 21s 365ms/step - loss: 0.4930 - acc: 0.9155 - val_loss: 0.9168 - val_acc: 0.8906 - lr: 0.0010\n",
            "Epoch 19/25\n",
            "55/55 [==============================] - ETA: 0s - loss: 0.4343 - acc: 0.9135\n",
            "Epoch 19: saving model to /temp/19_VGG16.h5\n",
            "55/55 [==============================] - 21s 366ms/step - loss: 0.4343 - acc: 0.9135 - val_loss: 0.7291 - val_acc: 0.8906 - lr: 0.0010\n",
            "Epoch 20/25\n",
            "55/55 [==============================] - ETA: 0s - loss: 0.3315 - acc: 0.9334\n",
            "Epoch 20: saving model to /temp/20_VGG16.h5\n",
            "55/55 [==============================] - 22s 385ms/step - loss: 0.3315 - acc: 0.9334 - val_loss: 1.9538 - val_acc: 0.9062 - lr: 0.0010\n",
            "Epoch 21/25\n",
            "55/55 [==============================] - ETA: 0s - loss: 0.3800 - acc: 0.9312\n",
            "Epoch 21: saving model to /temp/21_VGG16.h5\n",
            "55/55 [==============================] - 22s 366ms/step - loss: 0.3800 - acc: 0.9312 - val_loss: 1.1173 - val_acc: 0.8906 - lr: 0.0010\n",
            "Epoch 22/25\n",
            "55/55 [==============================] - ETA: 0s - loss: 0.4197 - acc: 0.9232\n",
            "Epoch 22: saving model to /temp/22_VGG16.h5\n",
            "55/55 [==============================] - 21s 364ms/step - loss: 0.4197 - acc: 0.9232 - val_loss: 0.3757 - val_acc: 0.9688 - lr: 0.0010\n",
            "Epoch 23/25\n",
            "55/55 [==============================] - ETA: 0s - loss: 0.4766 - acc: 0.9206\n",
            "Epoch 23: ReduceLROnPlateau reducing learning rate to 0.0005000000237487257.\n",
            "\n",
            "Epoch 23: saving model to /temp/23_VGG16.h5\n",
            "55/55 [==============================] - 22s 371ms/step - loss: 0.4766 - acc: 0.9206 - val_loss: 0.8272 - val_acc: 0.9062 - lr: 0.0010\n",
            "Epoch 24/25\n",
            "55/55 [==============================] - ETA: 0s - loss: 0.3490 - acc: 0.9360\n",
            "Epoch 24: saving model to /temp/24_VGG16.h5\n",
            "55/55 [==============================] - 22s 374ms/step - loss: 0.3490 - acc: 0.9360 - val_loss: 0.5810 - val_acc: 0.9062 - lr: 5.0000e-04\n",
            "Epoch 25/25\n",
            "55/55 [==============================] - ETA: 0s - loss: 0.1867 - acc: 0.9594\n",
            "Epoch 25: saving model to /temp/25_VGG16.h5\n",
            "55/55 [==============================] - 22s 370ms/step - loss: 0.1867 - acc: 0.9594 - val_loss: 0.2387 - val_acc: 0.9688 - lr: 5.0000e-04\n"
          ]
        }
      ],
      "source": [
        "history = model.fit(\n",
        "                  train_ds,\n",
        "                  validation_data=validation_ds,\n",
        "                  epochs=25,\n",
        "                  batch_size=64,\n",
        "                  callbacks=[annealer, checkpoint],\n",
        "                  steps_per_epoch=len(train_ds),\n",
        "                  validation_steps=len(test_ds)\n",
        "                )"
      ]
    },
    {
      "cell_type": "markdown",
      "source": [
        "# **Plotting**"
      ],
      "metadata": {
        "id": "Vui3H4IgvLyY"
      }
    },
    {
      "cell_type": "code",
      "source": [
        "# Plotting Loss & Accuracy Graphs\n",
        "plt.figure(figsize=(12, 12))\n",
        "plt.subplot(3, 2, 1)\n",
        "plt.plot(history.history['acc'], label = 'train_accuracy')\n",
        "plt.plot(history.history['val_acc'], label = 'val_accuracy')\n",
        "plt.xlabel('epoch')\n",
        "plt.ylabel('accuracy')\n",
        "plt.ylim(0,1)\n",
        "plt.legend()\n",
        "plt.show()"
      ],
      "metadata": {
        "colab": {
          "base_uri": "https://localhost:8080/",
          "height": 258
        },
        "id": "5HOBPsb7UYka",
        "outputId": "ea8028fb-a237-4ee5-f9da-7a7c8ab5e7bb"
      },
      "execution_count": null,
      "outputs": [
        {
          "output_type": "display_data",
          "data": {
            "text/plain": [
              "<Figure size 864x864 with 1 Axes>"
            ],
            "image/png": "[encoded data removed]"
          },
          "metadata": {
            "needs_background": "light"
          }
        }
      ]
    },
    {
      "cell_type": "code",
      "source": [
        "# Plotting Loss & Accuracy Graphs\n",
        "plt.figure(figsize=(12, 12))\n",
        "plt.subplot(3, 2, 2)\n",
        "plt.plot(history.history['loss'], label = 'train_loss')\n",
        "plt.plot(history.history['val_loss'], label = 'val_loss')\n",
        "plt.xlabel('epoch')\n",
        "plt.ylabel('loss')\n",
        "plt.legend()\n",
        "plt.show()"
      ],
      "metadata": {
        "colab": {
          "base_uri": "https://localhost:8080/",
          "height": 254
        },
        "id": "pvoUBG9TeV5c",
        "outputId": "b7745c95-5807-438e-d7cd-7f4117f70f00"
      },
      "execution_count": null,
      "outputs": [
        {
          "output_type": "display_data",
          "data": {
            "text/plain": [
              "<Figure size 864x864 with 1 Axes>"
            ],
            "image/png": "[encoded data removed]"
          },
          "metadata": {
            "needs_background": "light"
          }
        }
      ]
    },
    {
      "cell_type": "markdown",
      "source": [
        "# **Evaluate**"
      ],
      "metadata": {
        "id": "-DqOUp4LvYFw"
      }
    },
    {
      "cell_type": "code",
      "source": [
        "model.evaluate(test_ds)"
      ],
      "metadata": {
        "colab": {
          "base_uri": "https://localhost:8080/"
        },
        "id": "jTaViI-kNkPY",
        "outputId": "217164c1-8225-4f2e-edac-2f50615c9f60"
      },
      "execution_count": null,
      "outputs": [
        {
          "output_type": "stream",
          "name": "stdout",
          "text": [
            "1/1 [==============================] - 3s 3s/step - loss: 0.2835 - acc: 0.9211\n"
          ]
        },
        {
          "output_type": "execute_result",
          "data": {
            "text/plain": [
              "[0.2834939658641815, 0.9210526347160339]"
            ]
          },
          "metadata": {},
          "execution_count": 29
        }
      ]
    },
    {
      "cell_type": "code",
      "source": [
        "model.evaluate(train_ds)"
      ],
      "metadata": {
        "colab": {
          "base_uri": "https://localhost:8080/"
        },
        "id": "NrOb6YodRi9n",
        "outputId": "7aa23b91-3f85-4848-ac6d-adde08c92d56"
      },
      "execution_count": null,
      "outputs": [
        {
          "output_type": "stream",
          "name": "stdout",
          "text": [
            "55/55 [==============================] - 19s 323ms/step - loss: 0.0051 - acc: 0.9980\n"
          ]
        },
        {
          "output_type": "execute_result",
          "data": {
            "text/plain": [
              "[0.005063485354185104, 0.9980005621910095]"
            ]
          },
          "metadata": {},
          "execution_count": 30
        }
      ]
    },
    {
      "cell_type": "code",
      "execution_count": null,
      "metadata": {
        "colab": {
          "base_uri": "https://localhost:8080/",
          "height": 241
        },
        "id": "J2D-8In5VxEB",
        "outputId": "f875d9b1-58b3-4217-eaaa-5ee9bbedff0a"
      },
      "outputs": [
        {
          "output_type": "execute_result",
          "data": {
            "text/plain": [
              "<PIL.Image.Image image mode=RGB size=224x224 at 0x7F795E59DA10>"
            ],
            "image/png": "[encoded data removed]"
          },
          "metadata": {},
          "execution_count": 32
        }
      ],
      "source": [
        "from keras.preprocessing import image\n",
        "img1 =image.load_img('/content/drive/MyDrive/GP NTI/Test/ankh/ankh (42).jpg',target_size =(224,224))\n",
        "img1"
      ]
    },
    {
      "cell_type": "markdown",
      "source": [
        "# **Prediction**"
      ],
      "metadata": {
        "id": "CFAfVaA9vgS6"
      }
    },
    {
      "cell_type": "code",
      "source": [
        "y_pred=model.predict(test_ds)\n",
        "y_pred.shape"
      ],
      "metadata": {
        "colab": {
          "base_uri": "https://localhost:8080/"
        },
        "id": "z3jnRc0IZSue",
        "outputId": "a7fbb83c-d8c7-42f6-bf57-4d982e2ddfba"
      },
      "execution_count": null,
      "outputs": [
        {
          "output_type": "execute_result",
          "data": {
            "text/plain": [
              "(38, 95)"
            ]
          },
          "metadata": {},
          "execution_count": 33
        }
      ]
    },
    {
      "cell_type": "code",
      "source": [
        "class_names = train_ds.class_names\n",
        "actual = []\n",
        "pred = []\n",
        "for images, labels in test_ds:\n",
        "    for i in range(0, len(images)):\n",
        "        image = images[i]\n",
        "        image = np.expand_dims(image, axis=0)\n",
        "        result = model.predict(image)\n",
        "        pred.append(class_names[np.argmax(result)])\n",
        "        actual.append(class_names[labels[i].numpy()])"
      ],
      "metadata": {
        "id": "ktCcy82pZTNy"
      },
      "execution_count": null,
      "outputs": []
    },
    {
      "cell_type": "code",
      "source": [
        "count=0\n",
        "for i in range(len(actual)):\n",
        "    if actual[i]==pred[i]:\n",
        "        count+=1\n",
        "\n",
        "print(\"Accuracy on test data is: \",(count/len(actual))*100)"
      ],
      "metadata": {
        "colab": {
          "base_uri": "https://localhost:8080/"
        },
        "id": "2IN5O0hKh_TX",
        "outputId": "56a50d4a-df4c-4358-b722-53a83cded005"
      },
      "execution_count": null,
      "outputs": [
        {
          "output_type": "stream",
          "name": "stdout",
          "text": [
            "Accuracy on test data is:  92.10526315789474\n"
          ]
        }
      ]
    }
  ],
  "metadata": {
    "accelerator": "GPU",
    "colab": {
      "provenance": [],
      "collapsed_sections": [
        "KUh4JtYjuWan",
        "R93C68wZucz7",
        "cola_Sx3s2pc",
        "64HkqSaLtD82",
        "9u0h9K5AtQJ7",
        "Vui3H4IgvLyY",
        "-DqOUp4LvYFw",
        "CFAfVaA9vgS6"
      ]
    },
    "gpuClass": "standard",
    "kernelspec": {
      "display_name": "Python 3",
      "name": "python3"
    },
    "language_info": {
      "name": "python"
    }
  },
  "nbformat": 4,
  "nbformat_minor": 0
}