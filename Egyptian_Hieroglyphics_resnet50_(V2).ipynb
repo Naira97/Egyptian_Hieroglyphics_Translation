{
  "cells": [
    {
      "cell_type": "markdown",
      "source": [
        "# **Imports**"
      ],
      "metadata": {
        "id": "vF27tYrTO9YH"
      }
    },
    {
      "cell_type": "code",
      "source": [
        "import numpy as np\n",
        "import tensorflow as tf\n",
        "from tensorflow import keras\n",
        "from keras.callbacks import EarlyStopping\n",
        "from keras.models import * \n",
        "from keras.layers import * \n",
        "from keras.preprocessing import image\n",
        "import PIL\n",
        "from keras import optimizers, losses\n",
        "from keras.optimizers import *\n",
        "import os\n",
        "from keras import Sequential\n",
        "from keras import layers\n",
        "from tensorflow.keras.optimizers import Adam\n",
        "from keras.preprocessing.image import ImageDataGenerator\n",
        "from sklearn.metrics import confusion_matrix\n",
        "import matplotlib.pyplot as plt"
      ],
      "metadata": {
        "id": "WRmZr5f9O6LO"
      },
      "execution_count": 1,
      "outputs": []
    },
    {
      "cell_type": "markdown",
      "source": [
        "# **Get & Preprocess Data**"
      ],
      "metadata": {
        "id": "FT7MOfCyPL7H"
      }
    },
    {
      "cell_type": "code",
      "execution_count": 3,
      "metadata": {
        "colab": {
          "base_uri": "https://localhost:8080/"
        },
        "id": "IhsmXe4qAOWe",
        "outputId": "3df979b2-cd6c-42ec-e59c-d24fca8caa1c"
      },
      "outputs": [
        {
          "output_type": "stream",
          "name": "stdout",
          "text": [
            "Mounted at /content/drive\n"
          ]
        }
      ],
      "source": [
        "from google.colab import drive\n",
        "drive.mount('/content/drive')"
      ]
    },
    {
      "cell_type": "code",
      "execution_count": 7,
      "metadata": {
        "colab": {
          "base_uri": "https://localhost:8080/"
        },
        "id": "JA0d0sT6JjyE",
        "outputId": "1e177aae-3726-483c-b42e-d3ac628d84da"
      },
      "outputs": [
        {
          "output_type": "stream",
          "name": "stdout",
          "text": [
            "Found 3890 images belonging to 95 classes.\n",
            "Found 1039 images belonging to 95 classes.\n"
          ]
        }
      ],
      "source": [
        "train_datagen = ImageDataGenerator(rescale=1./255)\n",
        "test_datagen = ImageDataGenerator(rescale=1./255)\n",
        "\n",
        "train_set = train_datagen.flow_from_directory('/content/drive/MyDrive/GP NTI/Train',\n",
        "        target_size=(224, 224), batch_size=64,class_mode='categorical',shuffle=False)\n",
        "\n",
        "test_set = test_datagen.flow_from_directory('/content/drive/MyDrive/GP NTI/Test',\n",
        "            target_size=(224, 224), batch_size=64,class_mode='categorical',shuffle=False)\n"
      ]
    },
    {
      "cell_type": "code",
      "execution_count": 8,
      "metadata": {
        "id": "_PQoYrxcAcqr"
      },
      "outputs": [],
      "source": [
        "train_path = \"/content/drive/MyDrive/GP NTI/Train\"\n",
        "test_path = \"/content/drive/MyDrive/GP NTI/Test\""
      ]
    },
    {
      "cell_type": "code",
      "execution_count": 9,
      "metadata": {
        "colab": {
          "base_uri": "https://localhost:8080/"
        },
        "id": "tRhyfkF6Mhha",
        "outputId": "c7203ec5-ab5a-4e06-f13e-f8767e07e360"
      },
      "outputs": [
        {
          "output_type": "execute_result",
          "data": {
            "text/plain": [
              "{'100': 0,\n",
              " 'Angry': 1,\n",
              " 'Bury': 2,\n",
              " 'among': 3,\n",
              " 'ankh': 4,\n",
              " 'aroura': 5,\n",
              " 'at': 6,\n",
              " 'bad thinking': 7,\n",
              " 'bandage': 8,\n",
              " 'bee': 9,\n",
              " 'belong': 10,\n",
              " 'birth': 11,\n",
              " 'board game': 12,\n",
              " 'book': 13,\n",
              " 'boy': 14,\n",
              " 'branch': 15,\n",
              " 'bread': 16,\n",
              " 'brewer': 17,\n",
              " 'builder': 18,\n",
              " 'canal': 19,\n",
              " 'cloth on pole': 20,\n",
              " 'cobra': 21,\n",
              " 'composite_bow': 22,\n",
              " 'cooked': 23,\n",
              " 'corpse': 24,\n",
              " 'dessert': 25,\n",
              " 'divide': 26,\n",
              " 'duck': 27,\n",
              " 'elephant': 28,\n",
              " 'enclosed mound': 29,\n",
              " 'eye': 30,\n",
              " 'fabric': 31,\n",
              " 'face': 32,\n",
              " 'falcon': 33,\n",
              " 'fingre': 34,\n",
              " 'fish': 35,\n",
              " 'flail': 36,\n",
              " 'folded': 37,\n",
              " 'foot': 38,\n",
              " 'galena': 39,\n",
              " 'giraffe': 40,\n",
              " 'he': 41,\n",
              " 'her': 42,\n",
              " 'hit': 43,\n",
              " 'horn': 44,\n",
              " 'king': 45,\n",
              " 'leg': 46,\n",
              " 'length of a human arm': 47,\n",
              " 'life spirit': 48,\n",
              " 'limits': 49,\n",
              " 'lion': 50,\n",
              " 'lizard': 51,\n",
              " 'loaf': 52,\n",
              " 'loaf of bread': 53,\n",
              " 'man': 54,\n",
              " 'mascot': 55,\n",
              " 'meet': 56,\n",
              " 'mother': 57,\n",
              " 'mouth': 58,\n",
              " 'musical instrument': 59,\n",
              " 'nile fish': 60,\n",
              " 'not': 61,\n",
              " 'now': 62,\n",
              " 'nurse': 63,\n",
              " 'nursing': 64,\n",
              " 'occur': 65,\n",
              " 'one': 66,\n",
              " 'owl': 67,\n",
              " 'pair': 68,\n",
              " 'papyrus scroll': 69,\n",
              " 'pool': 70,\n",
              " 'quailchick': 71,\n",
              " 'reed': 72,\n",
              " 'ring': 73,\n",
              " 'rope': 74,\n",
              " 'ruler': 75,\n",
              " 'sail': 76,\n",
              " 'sandal': 77,\n",
              " 'semen': 78,\n",
              " 'small ring': 79,\n",
              " 'snake': 80,\n",
              " 'soldier': 81,\n",
              " 'star': 82,\n",
              " 'stick': 83,\n",
              " 'swallow': 84,\n",
              " 'this': 85,\n",
              " 'to be dead': 86,\n",
              " 'to protect': 87,\n",
              " 'to say': 88,\n",
              " 'turtle': 89,\n",
              " 'viper': 90,\n",
              " 'wall': 91,\n",
              " 'water': 92,\n",
              " 'woman': 93,\n",
              " 'you': 94}"
            ]
          },
          "metadata": {},
          "execution_count": 9
        }
      ],
      "source": [
        "train_set.class_indices"
      ]
    },
    {
      "cell_type": "code",
      "execution_count": 10,
      "metadata": {
        "colab": {
          "base_uri": "https://localhost:8080/"
        },
        "id": "n1xarTkyCTEH",
        "outputId": "d257f40d-be38-4fa5-c9f1-60b18a30f4a0"
      },
      "outputs": [
        {
          "output_type": "stream",
          "name": "stdout",
          "text": [
            "Found 3890 files belonging to 95 classes.\n",
            "Using 3501 files for training.\n"
          ]
        }
      ],
      "source": [
        "batch_size = 64\n",
        "imageSize = 64\n",
        "\n",
        "target_dims = (imageSize, imageSize, 3)\n",
        "num_classes = 95\n",
        "\n",
        "train_len = 3890\n",
        "base_dir = os.path.join(os.getcwd(), \"/content/drive/MyDrive/GP NTI/\")\n",
        "train_dir = os.path.join(base_dir, '/content/drive/MyDrive/GP NTI/Train')\n",
        "train_ds = tf.keras.utils.image_dataset_from_directory(\n",
        "    train_dir,\n",
        "    validation_split=0.1,\n",
        "    subset=\"training\",\n",
        "    seed=123,\n",
        "    image_size=(imageSize, imageSize),\n",
        "    batch_size=batch_size)\n",
        "              "
      ]
    },
    {
      "cell_type": "code",
      "execution_count": 11,
      "metadata": {
        "colab": {
          "base_uri": "https://localhost:8080/"
        },
        "id": "BL6CZZz0Gu_t",
        "outputId": "4b25fa2d-9e14-4051-a56a-c4dfa83fcebe"
      },
      "outputs": [
        {
          "output_type": "stream",
          "name": "stdout",
          "text": [
            "Found 3890 files belonging to 95 classes.\n",
            "Using 350 files for validation.\n"
          ]
        }
      ],
      "source": [
        "validation_ds = tf.keras.utils.image_dataset_from_directory(\n",
        "    train_dir,\n",
        "    validation_split=0.09,\n",
        "    subset=\"validation\",\n",
        "    seed=123,\n",
        "    image_size=(imageSize, imageSize),\n",
        "    batch_size=batch_size)"
      ]
    },
    {
      "cell_type": "code",
      "execution_count": 12,
      "metadata": {
        "colab": {
          "base_uri": "https://localhost:8080/"
        },
        "id": "aLUxGQjFHI9z",
        "outputId": "0d01ba4c-addf-47a4-9617-bce41ea67d94"
      },
      "outputs": [
        {
          "output_type": "stream",
          "name": "stdout",
          "text": [
            "Found 3890 files belonging to 95 classes.\n",
            "Using 38 files for validation.\n"
          ]
        }
      ],
      "source": [
        "test_ds = tf.keras.utils.image_dataset_from_directory(\n",
        "    train_dir,\n",
        "    validation_split=0.01,\n",
        "    subset=\"validation\",\n",
        "    seed=123,\n",
        "    image_size=(imageSize, imageSize),\n",
        "    batch_size=batch_size)"
      ]
    },
    {
      "cell_type": "code",
      "execution_count": 13,
      "metadata": {
        "colab": {
          "base_uri": "https://localhost:8080/"
        },
        "id": "ImVXOSFGzniC",
        "outputId": "95918491-12a9-460d-98d2-820aa2397ea2"
      },
      "outputs": [
        {
          "output_type": "execute_result",
          "data": {
            "text/plain": [
              "{'100': 0,\n",
              " 'Her': 1,\n",
              " 'Woman': 2,\n",
              " 'among': 3,\n",
              " 'angry': 4,\n",
              " 'ankh': 5,\n",
              " 'aroura': 6,\n",
              " 'at': 7,\n",
              " 'bad thinking': 8,\n",
              " 'bandage': 9,\n",
              " 'bee': 10,\n",
              " 'belongs': 11,\n",
              " 'birth': 12,\n",
              " 'board game': 13,\n",
              " 'book': 14,\n",
              " 'boy': 15,\n",
              " 'branch': 16,\n",
              " 'bread': 17,\n",
              " 'brewer': 18,\n",
              " 'builder': 19,\n",
              " 'bury': 20,\n",
              " 'canal': 21,\n",
              " 'cloth on pole': 22,\n",
              " 'cobra': 23,\n",
              " 'composite_bow': 24,\n",
              " 'cooked': 25,\n",
              " 'corpse': 26,\n",
              " 'dessert': 27,\n",
              " 'divide': 28,\n",
              " 'duck': 29,\n",
              " 'elephant': 30,\n",
              " 'enclosed mound': 31,\n",
              " 'eye': 32,\n",
              " 'fabric': 33,\n",
              " 'face': 34,\n",
              " 'falcon': 35,\n",
              " 'fingre': 36,\n",
              " 'fish': 37,\n",
              " 'flail': 38,\n",
              " 'folded': 39,\n",
              " 'foot': 40,\n",
              " 'galena': 41,\n",
              " 'giraffe': 42,\n",
              " 'he': 43,\n",
              " 'hit': 44,\n",
              " 'horn': 45,\n",
              " 'king': 46,\n",
              " 'leg': 47,\n",
              " 'length of a human arm': 48,\n",
              " 'life spirit': 49,\n",
              " 'limits': 50,\n",
              " 'lion': 51,\n",
              " 'lizard': 52,\n",
              " 'loaf': 53,\n",
              " 'loaf of bread': 54,\n",
              " 'man': 55,\n",
              " 'mascot': 56,\n",
              " 'meet': 57,\n",
              " 'mother': 58,\n",
              " 'mouth': 59,\n",
              " 'musical instrument': 60,\n",
              " 'nile fish': 61,\n",
              " 'not': 62,\n",
              " 'now': 63,\n",
              " 'nurse': 64,\n",
              " 'nursing': 65,\n",
              " 'occur': 66,\n",
              " 'one': 67,\n",
              " 'owl': 68,\n",
              " 'pair': 69,\n",
              " 'papyrus scroll': 70,\n",
              " 'pool': 71,\n",
              " 'quailchick': 72,\n",
              " 'reed': 73,\n",
              " 'ring': 74,\n",
              " 'rope': 75,\n",
              " 'ruler': 76,\n",
              " 'sail': 77,\n",
              " 'sandal': 78,\n",
              " 'semen': 79,\n",
              " 'small ring': 80,\n",
              " 'snake': 81,\n",
              " 'soldier': 82,\n",
              " 'star': 83,\n",
              " 'stick': 84,\n",
              " 'swallow': 85,\n",
              " 'this': 86,\n",
              " 'to be dead': 87,\n",
              " 'to prodect': 88,\n",
              " 'to say': 89,\n",
              " 'turtle': 90,\n",
              " 'viper': 91,\n",
              " 'wall': 92,\n",
              " 'water': 93,\n",
              " 'you': 94}"
            ]
          },
          "metadata": {},
          "execution_count": 13
        }
      ],
      "source": [
        "test_set.class_indices"
      ]
    },
    {
      "cell_type": "markdown",
      "source": [
        "# **Build Model**"
      ],
      "metadata": {
        "id": "S_6m656qP31v"
      }
    },
    {
      "cell_type": "code",
      "execution_count": 14,
      "metadata": {
        "id": "6kVhzVM60ILy",
        "colab": {
          "base_uri": "https://localhost:8080/"
        },
        "outputId": "d06a3a7e-b614-48ce-9771-711096b9f712"
      },
      "outputs": [
        {
          "output_type": "stream",
          "name": "stdout",
          "text": [
            "Downloading data from https://storage.googleapis.com/tensorflow/keras-applications/resnet/resnet50v2_weights_tf_dim_ordering_tf_kernels_notop.h5\n",
            "94674944/94668760 [==============================] - 0s 0us/step\n",
            "94683136/94668760 [==============================] - 0s 0us/step\n"
          ]
        }
      ],
      "source": [
        "resnet_model = Sequential()\n",
        "pretrained_model= tf.keras.applications.resnet_v2.ResNet50V2(include_top=False,\n",
        "                   input_shape=(64,64,3),\n",
        "                   pooling='avg',classes=95,\n",
        "                   weights='imagenet')\n",
        "\n",
        "\n",
        "resnet_model.add(pretrained_model)\n",
        "resnet_model.add(Flatten())\n",
        "resnet_model.add(Dense(512, activation='relu'))\n",
        "resnet_model.add(Dense(95, activation='softmax'))"
      ]
    },
    {
      "cell_type": "code",
      "execution_count": 15,
      "metadata": {
        "colab": {
          "base_uri": "https://localhost:8080/"
        },
        "id": "UOitw6mY0P-Q",
        "outputId": "046be30f-4814-4c99-eed8-05100a917c8c"
      },
      "outputs": [
        {
          "output_type": "stream",
          "name": "stdout",
          "text": [
            "Model: \"sequential\"\n",
            "_________________________________________________________________\n",
            " Layer (type)                Output Shape              Param #   \n",
            "=================================================================\n",
            " resnet50v2 (Functional)     (None, 2048)              23564800  \n",
            "                                                                 \n",
            " flatten (Flatten)           (None, 2048)              0         \n",
            "                                                                 \n",
            " dense (Dense)               (None, 512)               1049088   \n",
            "                                                                 \n",
            " dense_1 (Dense)             (None, 95)                48735     \n",
            "                                                                 \n",
            "=================================================================\n",
            "Total params: 24,662,623\n",
            "Trainable params: 24,617,183\n",
            "Non-trainable params: 45,440\n",
            "_________________________________________________________________\n"
          ]
        }
      ],
      "source": [
        "resnet_model.summary()"
      ]
    },
    {
      "cell_type": "code",
      "source": [
        "from tensorflow.keras.utils import plot_model\n",
        "plot_model(model= resnet_model , show_shapes=True)"
      ],
      "metadata": {
        "colab": {
          "base_uri": "https://localhost:8080/",
          "height": 533
        },
        "id": "wVToxjIHRg0m",
        "outputId": "9a216ed3-ded0-430f-c046-a51926c903c0"
      },
      "execution_count": 16,
      "outputs": [
        {
          "output_type": "execute_result",
          "data": {
            "image/png": "[encoded data removed]",
            "text/plain": [
              "<IPython.core.display.Image object>"
            ]
          },
          "metadata": {},
          "execution_count": 16
        }
      ]
    },
    {
      "cell_type": "markdown",
      "source": [
        "**Compile Model:**"
      ],
      "metadata": {
        "id": "tUf4rOhiRWr1"
      }
    },
    {
      "cell_type": "code",
      "execution_count": 17,
      "metadata": {
        "id": "k1ZIQuW20XZT",
        "colab": {
          "base_uri": "https://localhost:8080/"
        },
        "outputId": "27b9e67a-0d26-4308-c6b3-156e0ca1efcb"
      },
      "outputs": [
        {
          "output_type": "stream",
          "name": "stderr",
          "text": [
            "/usr/local/lib/python3.7/dist-packages/keras/optimizer_v2/adam.py:105: UserWarning: The `lr` argument is deprecated, use `learning_rate` instead.\n",
            "  super(Adam, self).__init__(name, **kwargs)\n"
          ]
        }
      ],
      "source": [
        "resnet_model.compile(optimizer=Adam(lr=0.001),loss='sparse_categorical_crossentropy',metrics=['accuracy'])"
      ]
    },
    {
      "cell_type": "markdown",
      "source": [
        "**Train Model:**"
      ],
      "metadata": {
        "id": "Ae6nQgbtRaa4"
      }
    },
    {
      "cell_type": "code",
      "execution_count": 18,
      "metadata": {
        "id": "jdQS9RGrInVD",
        "colab": {
          "base_uri": "https://localhost:8080/"
        },
        "outputId": "333977f2-fc0b-4f28-bb66-a33ea01ef375"
      },
      "outputs": [
        {
          "output_type": "stream",
          "name": "stdout",
          "text": [
            "Epoch 1/60\n",
            "55/55 [==============================] - 1765s 28s/step - loss: 3.3576 - accuracy: 0.1482 - val_loss: 3364.5249 - val_accuracy: 0.0086\n",
            "Epoch 2/60\n",
            "55/55 [==============================] - 9s 152ms/step - loss: 1.8475 - accuracy: 0.4053 - val_loss: 508.6802 - val_accuracy: 0.0086\n",
            "Epoch 3/60\n",
            "55/55 [==============================] - 10s 160ms/step - loss: 1.3108 - accuracy: 0.5550 - val_loss: 206.9879 - val_accuracy: 0.0086\n",
            "Epoch 4/60\n",
            "55/55 [==============================] - 9s 149ms/step - loss: 0.9656 - accuracy: 0.6638 - val_loss: 28.4464 - val_accuracy: 0.0400\n",
            "Epoch 5/60\n",
            "55/55 [==============================] - 9s 149ms/step - loss: 0.6258 - accuracy: 0.7769 - val_loss: 17.7613 - val_accuracy: 0.0257\n",
            "Epoch 6/60\n",
            "55/55 [==============================] - 9s 149ms/step - loss: 0.5685 - accuracy: 0.8061 - val_loss: 30.9943 - val_accuracy: 0.0057\n",
            "Epoch 7/60\n",
            "55/55 [==============================] - 9s 149ms/step - loss: 0.4668 - accuracy: 0.8420 - val_loss: 24.4585 - val_accuracy: 0.0543\n",
            "Epoch 8/60\n",
            "55/55 [==============================] - 9s 149ms/step - loss: 0.4355 - accuracy: 0.8515 - val_loss: 29.0738 - val_accuracy: 0.0314\n",
            "Epoch 9/60\n",
            "55/55 [==============================] - 9s 147ms/step - loss: 0.3689 - accuracy: 0.8757 - val_loss: 28.4859 - val_accuracy: 0.0171\n",
            "Epoch 10/60\n",
            "55/55 [==============================] - 9s 147ms/step - loss: 0.2965 - accuracy: 0.8983 - val_loss: 20.2648 - val_accuracy: 0.0629\n",
            "Epoch 11/60\n",
            "55/55 [==============================] - 9s 148ms/step - loss: 0.2678 - accuracy: 0.9080 - val_loss: 22.6644 - val_accuracy: 0.0457\n",
            "Epoch 12/60\n",
            "55/55 [==============================] - 9s 148ms/step - loss: 0.2188 - accuracy: 0.9297 - val_loss: 12.5812 - val_accuracy: 0.1029\n",
            "Epoch 13/60\n",
            "55/55 [==============================] - 9s 148ms/step - loss: 0.2120 - accuracy: 0.9303 - val_loss: 18.2631 - val_accuracy: 0.0600\n",
            "Epoch 14/60\n",
            "55/55 [==============================] - 9s 148ms/step - loss: 0.2373 - accuracy: 0.9186 - val_loss: 17.3621 - val_accuracy: 0.0371\n",
            "Epoch 15/60\n",
            "55/55 [==============================] - 9s 146ms/step - loss: 0.1700 - accuracy: 0.9414 - val_loss: 12.7811 - val_accuracy: 0.0943\n",
            "Epoch 16/60\n",
            "55/55 [==============================] - 9s 148ms/step - loss: 0.1052 - accuracy: 0.9643 - val_loss: 12.7837 - val_accuracy: 0.1657\n",
            "Epoch 17/60\n",
            "55/55 [==============================] - 10s 157ms/step - loss: 0.1253 - accuracy: 0.9580 - val_loss: 20.4403 - val_accuracy: 0.0400\n",
            "Epoch 18/60\n",
            "55/55 [==============================] - 9s 149ms/step - loss: 0.1725 - accuracy: 0.9429 - val_loss: 28.2038 - val_accuracy: 0.0371\n",
            "Epoch 19/60\n",
            "55/55 [==============================] - 9s 149ms/step - loss: 0.2010 - accuracy: 0.9380 - val_loss: 26.3847 - val_accuracy: 0.0171\n",
            "Epoch 20/60\n",
            "55/55 [==============================] - 9s 148ms/step - loss: 0.2038 - accuracy: 0.9352 - val_loss: 22.0058 - val_accuracy: 0.0343\n",
            "Epoch 21/60\n",
            "55/55 [==============================] - 9s 149ms/step - loss: 0.1591 - accuracy: 0.9517 - val_loss: 5.8072 - val_accuracy: 0.3429\n",
            "Epoch 22/60\n",
            "55/55 [==============================] - 9s 147ms/step - loss: 0.1074 - accuracy: 0.9634 - val_loss: 11.8184 - val_accuracy: 0.2371\n",
            "Epoch 23/60\n",
            "55/55 [==============================] - 9s 150ms/step - loss: 0.1112 - accuracy: 0.9649 - val_loss: 19.0232 - val_accuracy: 0.0943\n",
            "Epoch 24/60\n",
            "55/55 [==============================] - 9s 149ms/step - loss: 0.1021 - accuracy: 0.9683 - val_loss: 10.5054 - val_accuracy: 0.1886\n",
            "Epoch 25/60\n",
            "55/55 [==============================] - 9s 148ms/step - loss: 0.1167 - accuracy: 0.9620 - val_loss: 12.1291 - val_accuracy: 0.2229\n",
            "Epoch 26/60\n",
            "55/55 [==============================] - 9s 149ms/step - loss: 0.0902 - accuracy: 0.9729 - val_loss: 6.0533 - val_accuracy: 0.4057\n",
            "Epoch 27/60\n",
            "55/55 [==============================] - 9s 147ms/step - loss: 0.1012 - accuracy: 0.9660 - val_loss: 19.7841 - val_accuracy: 0.0600\n",
            "Epoch 28/60\n",
            "55/55 [==============================] - 9s 148ms/step - loss: 0.1228 - accuracy: 0.9612 - val_loss: 26.1392 - val_accuracy: 0.0600\n",
            "Epoch 29/60\n",
            "55/55 [==============================] - 9s 146ms/step - loss: 0.1271 - accuracy: 0.9620 - val_loss: 8.2429 - val_accuracy: 0.1486\n",
            "Epoch 30/60\n",
            "55/55 [==============================] - 9s 146ms/step - loss: 0.1115 - accuracy: 0.9654 - val_loss: 19.6100 - val_accuracy: 0.0314\n",
            "Epoch 31/60\n",
            "55/55 [==============================] - 9s 152ms/step - loss: 0.0661 - accuracy: 0.9803 - val_loss: 26.3153 - val_accuracy: 0.0771\n",
            "Epoch 32/60\n",
            "55/55 [==============================] - 10s 147ms/step - loss: 0.0658 - accuracy: 0.9760 - val_loss: 16.2660 - val_accuracy: 0.0886\n",
            "Epoch 33/60\n",
            "55/55 [==============================] - 9s 147ms/step - loss: 0.0945 - accuracy: 0.9751 - val_loss: 12.0951 - val_accuracy: 0.1286\n",
            "Epoch 34/60\n",
            "55/55 [==============================] - 9s 148ms/step - loss: 0.0676 - accuracy: 0.9757 - val_loss: 13.4728 - val_accuracy: 0.1771\n",
            "Epoch 35/60\n",
            "55/55 [==============================] - 9s 147ms/step - loss: 0.0834 - accuracy: 0.9732 - val_loss: 4.4306 - val_accuracy: 0.3914\n",
            "Epoch 36/60\n",
            "55/55 [==============================] - 9s 149ms/step - loss: 0.0874 - accuracy: 0.9743 - val_loss: 5.8752 - val_accuracy: 0.3657\n",
            "Epoch 37/60\n",
            "55/55 [==============================] - 9s 148ms/step - loss: 0.0841 - accuracy: 0.9732 - val_loss: 6.1465 - val_accuracy: 0.2543\n",
            "Epoch 38/60\n",
            "55/55 [==============================] - 9s 147ms/step - loss: 0.1198 - accuracy: 0.9606 - val_loss: 2.5593 - val_accuracy: 0.5000\n",
            "Epoch 39/60\n",
            "55/55 [==============================] - 9s 146ms/step - loss: 0.1006 - accuracy: 0.9694 - val_loss: 4.4541 - val_accuracy: 0.4229\n",
            "Epoch 40/60\n",
            "55/55 [==============================] - 9s 148ms/step - loss: 0.0912 - accuracy: 0.9712 - val_loss: 13.6599 - val_accuracy: 0.1000\n",
            "Epoch 41/60\n",
            "55/55 [==============================] - 9s 147ms/step - loss: 0.0849 - accuracy: 0.9729 - val_loss: 2.6679 - val_accuracy: 0.5257\n",
            "Epoch 42/60\n",
            "55/55 [==============================] - 9s 146ms/step - loss: 0.1124 - accuracy: 0.9694 - val_loss: 18.7793 - val_accuracy: 0.0657\n",
            "Epoch 43/60\n",
            "55/55 [==============================] - 9s 149ms/step - loss: 0.0954 - accuracy: 0.9697 - val_loss: 2.7579 - val_accuracy: 0.5629\n",
            "Epoch 44/60\n",
            "55/55 [==============================] - 9s 149ms/step - loss: 0.0315 - accuracy: 0.9891 - val_loss: 6.6129 - val_accuracy: 0.2743\n",
            "Epoch 45/60\n",
            "55/55 [==============================] - 9s 148ms/step - loss: 0.0572 - accuracy: 0.9809 - val_loss: 21.5212 - val_accuracy: 0.2229\n",
            "Epoch 46/60\n",
            "55/55 [==============================] - 10s 158ms/step - loss: 0.0828 - accuracy: 0.9737 - val_loss: 4.1646 - val_accuracy: 0.4514\n",
            "Epoch 47/60\n",
            "55/55 [==============================] - 9s 149ms/step - loss: 0.0905 - accuracy: 0.9700 - val_loss: 23.0645 - val_accuracy: 0.0914\n",
            "Epoch 48/60\n",
            "55/55 [==============================] - 9s 148ms/step - loss: 0.0629 - accuracy: 0.9794 - val_loss: 11.0618 - val_accuracy: 0.1543\n",
            "Epoch 49/60\n",
            "55/55 [==============================] - 10s 158ms/step - loss: 0.0855 - accuracy: 0.9746 - val_loss: 23.4532 - val_accuracy: 0.1514\n",
            "Epoch 50/60\n",
            "55/55 [==============================] - 9s 148ms/step - loss: 0.0839 - accuracy: 0.9766 - val_loss: 17.2972 - val_accuracy: 0.0743\n",
            "Epoch 51/60\n",
            "55/55 [==============================] - 9s 149ms/step - loss: 0.0497 - accuracy: 0.9851 - val_loss: 9.9107 - val_accuracy: 0.1629\n",
            "Epoch 52/60\n",
            "55/55 [==============================] - 9s 149ms/step - loss: 0.0305 - accuracy: 0.9917 - val_loss: 1.9624 - val_accuracy: 0.6457\n",
            "Epoch 53/60\n",
            "55/55 [==============================] - 9s 151ms/step - loss: 0.0188 - accuracy: 0.9949 - val_loss: 9.2124 - val_accuracy: 0.2514\n",
            "Epoch 54/60\n",
            "55/55 [==============================] - 9s 147ms/step - loss: 0.0280 - accuracy: 0.9929 - val_loss: 2.7572 - val_accuracy: 0.5600\n",
            "Epoch 55/60\n",
            "55/55 [==============================] - 9s 150ms/step - loss: 0.0270 - accuracy: 0.9929 - val_loss: 3.2154 - val_accuracy: 0.5886\n",
            "Epoch 56/60\n",
            "55/55 [==============================] - 9s 149ms/step - loss: 0.0940 - accuracy: 0.9780 - val_loss: 9.7196 - val_accuracy: 0.2914\n",
            "Epoch 57/60\n",
            "55/55 [==============================] - 9s 148ms/step - loss: 0.0566 - accuracy: 0.9831 - val_loss: 5.1602 - val_accuracy: 0.4714\n",
            "Epoch 58/60\n",
            "55/55 [==============================] - 9s 148ms/step - loss: 0.0787 - accuracy: 0.9760 - val_loss: 12.4423 - val_accuracy: 0.1171\n",
            "Epoch 59/60\n",
            "55/55 [==============================] - 10s 156ms/step - loss: 0.0658 - accuracy: 0.9780 - val_loss: 15.8800 - val_accuracy: 0.1343\n",
            "Epoch 60/60\n",
            "55/55 [==============================] - 10s 149ms/step - loss: 0.0748 - accuracy: 0.9746 - val_loss: 12.9998 - val_accuracy: 0.0971\n"
          ]
        }
      ],
      "source": [
        "history = resnet_model.fit(train_ds,\n",
        "                           batch_size=64,\n",
        "                           validation_batch_size=64,\n",
        "                           validation_data=validation_ds,\n",
        "                           epochs=60)"
      ]
    },
    {
      "cell_type": "markdown",
      "source": [
        "# **Plotting**"
      ],
      "metadata": {
        "id": "Y25bfsB4Rxy9"
      }
    },
    {
      "cell_type": "code",
      "source": [
        "# Plotting Loss & Accuracy Graphs\n",
        "plt.figure(figsize=(12, 12))\n",
        "plt.subplot(3, 2, 1)\n",
        "plt.plot(history.history['accuracy'], label = 'accuracy')\n",
        "plt.plot(history.history['val_accuracy'], label = 'val_accuracy')\n",
        "plt.xlabel('epoch')\n",
        "plt.ylabel('accuracy')\n",
        "plt.ylim(0,1)\n",
        "plt.legend()\n",
        "plt.show()"
      ],
      "metadata": {
        "id": "5HOBPsb7UYka",
        "colab": {
          "base_uri": "https://localhost:8080/",
          "height": 258
        },
        "outputId": "c4fa0995-c99d-4c74-8129-81b009e226c6"
      },
      "execution_count": 19,
      "outputs": [
        {
          "output_type": "display_data",
          "data": {
            "text/plain": [
              "<Figure size 864x864 with 1 Axes>"
            ],
            "image/png": "[encoded data removed]"
          },
          "metadata": {
            "needs_background": "light"
          }
        }
      ]
    },
    {
      "cell_type": "code",
      "source": [
        "# Plotting Loss & Accuracy Graphs\n",
        "plt.figure(figsize=(12, 12))\n",
        "plt.subplot(3, 2, 2)\n",
        "plt.plot(history.history['loss'], label = 'loss')\n",
        "plt.plot(history.history['val_loss'], label = 'val_loss')\n",
        "plt.xlabel('epoch')\n",
        "plt.ylabel('loss')\n",
        "plt.legend()\n",
        "plt.show()"
      ],
      "metadata": {
        "colab": {
          "base_uri": "https://localhost:8080/",
          "height": 256
        },
        "id": "pvoUBG9TeV5c",
        "outputId": "15a4c332-d347-4f51-982b-5811172390df"
      },
      "execution_count": 20,
      "outputs": [
        {
          "output_type": "display_data",
          "data": {
            "text/plain": [
              "<Figure size 864x864 with 1 Axes>"
            ],
            "image/png": "[encoded data removed]"
          },
          "metadata": {
            "needs_background": "light"
          }
        }
      ]
    },
    {
      "cell_type": "markdown",
      "source": [
        "# **Evaluate Model**"
      ],
      "metadata": {
        "id": "9EOS69DMSLUa"
      }
    },
    {
      "cell_type": "code",
      "source": [
        "resnet_model.evaluate(test_ds)"
      ],
      "metadata": {
        "colab": {
          "base_uri": "https://localhost:8080/"
        },
        "id": "_SD1cyi0SZLm",
        "outputId": "f5e3e201-6d81-4ce2-fba7-14cc41ea0958"
      },
      "execution_count": 21,
      "outputs": [
        {
          "output_type": "stream",
          "name": "stdout",
          "text": [
            "1/1 [==============================] - 1s 741ms/step - loss: 12.6240 - accuracy: 0.1316\n"
          ]
        },
        {
          "output_type": "execute_result",
          "data": {
            "text/plain": [
              "[12.623987197875977, 0.1315789520740509]"
            ]
          },
          "metadata": {},
          "execution_count": 21
        }
      ]
    },
    {
      "cell_type": "code",
      "source": [
        "resnet_model.evaluate(train_ds)"
      ],
      "metadata": {
        "colab": {
          "base_uri": "https://localhost:8080/"
        },
        "id": "qf7ZVIpqR6WI",
        "outputId": "c997e9b8-b6c3-4f68-a443-92e7aff000dd"
      },
      "execution_count": 22,
      "outputs": [
        {
          "output_type": "stream",
          "name": "stdout",
          "text": [
            "55/55 [==============================] - 7s 112ms/step - loss: 12.9506 - accuracy: 0.1297\n"
          ]
        },
        {
          "output_type": "execute_result",
          "data": {
            "text/plain": [
              "[12.950645446777344, 0.12967723608016968]"
            ]
          },
          "metadata": {},
          "execution_count": 22
        }
      ]
    },
    {
      "cell_type": "markdown",
      "source": [
        "# **Prediction**"
      ],
      "metadata": {
        "id": "h-0kbFVISfp0"
      }
    },
    {
      "cell_type": "code",
      "source": [
        "y_pred=resnet_model.predict(test_ds)\n",
        "y_pred.shape"
      ],
      "metadata": {
        "colab": {
          "base_uri": "https://localhost:8080/"
        },
        "id": "o5K85VK4S6EH",
        "outputId": "397fb402-db40-48e0-c2cf-e748dfd8dd23"
      },
      "execution_count": 23,
      "outputs": [
        {
          "output_type": "execute_result",
          "data": {
            "text/plain": [
              "(38, 95)"
            ]
          },
          "metadata": {},
          "execution_count": 23
        }
      ]
    },
    {
      "cell_type": "code",
      "source": [
        "class_names = train_ds.class_names\n",
        "actual = []\n",
        "pred = []\n",
        "for images, labels in test_ds:\n",
        "    for i in range(0, len(images)):\n",
        "        image = images[i]\n",
        "        image = np.expand_dims(image, axis=0)\n",
        "        result = resnet_model.predict(image)\n",
        "        pred.append(class_names[np.argmax(result)])\n",
        "        actual.append(class_names[labels[i].numpy()])"
      ],
      "metadata": {
        "id": "MZZ4i4PiS7QJ"
      },
      "execution_count": 24,
      "outputs": []
    },
    {
      "cell_type": "code",
      "source": [
        "count=0\n",
        "for i in range(len(actual)):\n",
        "    if actual[i]==pred[i]:\n",
        "        count+=1\n",
        "\n",
        "print(\"Accuracy on test data is: \",(count/len(actual))*100)"
      ],
      "metadata": {
        "colab": {
          "base_uri": "https://localhost:8080/"
        },
        "id": "RSGOPYyBS-O6",
        "outputId": "3675f25b-6a2e-47a0-ed6e-b48883d4ad08"
      },
      "execution_count": 25,
      "outputs": [
        {
          "output_type": "stream",
          "name": "stdout",
          "text": [
            "Accuracy on test data is:  13.157894736842104\n"
          ]
        }
      ]
    },
    {
      "cell_type": "code",
      "execution_count": 26,
      "metadata": {
        "id": "J2D-8In5VxEB",
        "colab": {
          "base_uri": "https://localhost:8080/",
          "height": 241
        },
        "outputId": "e24c3bf5-de0f-47e3-cc28-e8df2195a835"
      },
      "outputs": [
        {
          "output_type": "execute_result",
          "data": {
            "text/plain": [
              "<PIL.Image.Image image mode=RGB size=224x224 at 0x7FD4BFE4A510>"
            ],
            "image/png": "[encoded data removed]"
          },
          "metadata": {},
          "execution_count": 26
        }
      ],
      "source": [
        "from keras.preprocessing import image\n",
        "img1 =image.load_img('/content/drive/MyDrive/GP NTI/Test/wall/wall (48).jpg',target_size =(224,224))\n",
        "img1"
      ]
    }
  ],
  "metadata": {
    "colab": {
      "provenance": []
    },
    "gpuClass": "standard",
    "kernelspec": {
      "display_name": "Python 3",
      "name": "python3"
    },
    "language_info": {
      "name": "python"
    },
    "accelerator": "GPU"
  },
  "nbformat": 4,
  "nbformat_minor": 0
}