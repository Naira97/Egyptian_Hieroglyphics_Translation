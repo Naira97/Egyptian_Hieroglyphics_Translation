{
  "cells": [
    {
      "cell_type": "markdown",
      "source": [
        "# **Imports**"
      ],
      "metadata": {
        "id": "DXiwc8Se5MgE"
      }
    },
    {
      "cell_type": "code",
      "source": [
        "import numpy as np\n",
        "import tensorflow as tf\n",
        "from tensorflow import keras\n",
        "from keras.callbacks import EarlyStopping\n",
        "from keras.models import * \n",
        "from keras.layers import * \n",
        "from keras.preprocessing import image\n",
        "import PIL\n",
        "from keras import optimizers, losses\n",
        "from keras.optimizers import *\n",
        "import os\n",
        "from keras import Sequential\n",
        "from keras import layers\n",
        "from tensorflow.keras.optimizers import Adam\n",
        "from keras.preprocessing.image import ImageDataGenerator\n",
        "from sklearn.metrics import confusion_matrix\n",
        "import matplotlib.pyplot as plt"
      ],
      "metadata": {
        "id": "x4OAXggv3x4q"
      },
      "execution_count": null,
      "outputs": []
    },
    {
      "cell_type": "markdown",
      "source": [
        "# **Get & Preprocess Data**"
      ],
      "metadata": {
        "id": "zANRk_dq5Suf"
      }
    },
    {
      "cell_type": "code",
      "execution_count": null,
      "metadata": {
        "colab": {
          "base_uri": "https://localhost:8080/"
        },
        "id": "JA0d0sT6JjyE",
        "outputId": "db7ffa94-ff90-498f-c0c3-3a0beaffc1f7"
      },
      "outputs": [
        {
          "output_type": "stream",
          "name": "stdout",
          "text": [
            "Mounted at /content/drive\n",
            "Found 3890 images belonging to 95 classes.\n",
            "Found 1039 images belonging to 95 classes.\n"
          ]
        }
      ],
      "source": [
        "from google.colab import drive\n",
        "drive.mount('/content/drive')\n",
        "\n",
        "train_datagen = ImageDataGenerator(rescale=1./255)\n",
        "test_datagen = ImageDataGenerator(rescale=1./255)\n",
        "\n",
        "train_set = train_datagen.flow_from_directory('/content/drive/MyDrive/GP NTI/Train',\n",
        "        target_size=(224, 224), batch_size=64,class_mode='categorical',shuffle=False)\n",
        "\n",
        "test_set = test_datagen.flow_from_directory('/content/drive/MyDrive/GP NTI/Test',\n",
        "            target_size=(224, 224), batch_size=64,class_mode='categorical',shuffle=False)\n"
      ]
    },
    {
      "cell_type": "code",
      "execution_count": null,
      "metadata": {
        "id": "_PQoYrxcAcqr"
      },
      "outputs": [],
      "source": [
        "train_path = \"/content/drive/MyDrive/GP NTI/Train\"\n",
        "test_path = \"/content/drive/MyDrive/GP NTI/Test\""
      ]
    },
    {
      "cell_type": "code",
      "execution_count": null,
      "metadata": {
        "colab": {
          "base_uri": "https://localhost:8080/"
        },
        "id": "tRhyfkF6Mhha",
        "outputId": "9edd6456-b993-442d-fa5d-34640fb42ca0"
      },
      "outputs": [
        {
          "output_type": "execute_result",
          "data": {
            "text/plain": [
              "{'100': 0,\n",
              " 'Angry': 1,\n",
              " 'Bury': 2,\n",
              " 'among': 3,\n",
              " 'ankh': 4,\n",
              " 'aroura': 5,\n",
              " 'at': 6,\n",
              " 'bad thinking': 7,\n",
              " 'bandage': 8,\n",
              " 'bee': 9,\n",
              " 'belong': 10,\n",
              " 'birth': 11,\n",
              " 'board game': 12,\n",
              " 'book': 13,\n",
              " 'boy': 14,\n",
              " 'branch': 15,\n",
              " 'bread': 16,\n",
              " 'brewer': 17,\n",
              " 'builder': 18,\n",
              " 'canal': 19,\n",
              " 'cloth on pole': 20,\n",
              " 'cobra': 21,\n",
              " 'composite_bow': 22,\n",
              " 'cooked': 23,\n",
              " 'corpse': 24,\n",
              " 'dessert': 25,\n",
              " 'divide': 26,\n",
              " 'duck': 27,\n",
              " 'elephant': 28,\n",
              " 'enclosed mound': 29,\n",
              " 'eye': 30,\n",
              " 'fabric': 31,\n",
              " 'face': 32,\n",
              " 'falcon': 33,\n",
              " 'fingre': 34,\n",
              " 'fish': 35,\n",
              " 'flail': 36,\n",
              " 'folded': 37,\n",
              " 'foot': 38,\n",
              " 'galena': 39,\n",
              " 'giraffe': 40,\n",
              " 'he': 41,\n",
              " 'her': 42,\n",
              " 'hit': 43,\n",
              " 'horn': 44,\n",
              " 'king': 45,\n",
              " 'leg': 46,\n",
              " 'length of a human arm': 47,\n",
              " 'life spirit': 48,\n",
              " 'limits': 49,\n",
              " 'lion': 50,\n",
              " 'lizard': 51,\n",
              " 'loaf': 52,\n",
              " 'loaf of bread': 53,\n",
              " 'man': 54,\n",
              " 'mascot': 55,\n",
              " 'meet': 56,\n",
              " 'mother': 57,\n",
              " 'mouth': 58,\n",
              " 'musical instrument': 59,\n",
              " 'nile fish': 60,\n",
              " 'not': 61,\n",
              " 'now': 62,\n",
              " 'nurse': 63,\n",
              " 'nursing': 64,\n",
              " 'occur': 65,\n",
              " 'one': 66,\n",
              " 'owl': 67,\n",
              " 'pair': 68,\n",
              " 'papyrus scroll': 69,\n",
              " 'pool': 70,\n",
              " 'quailchick': 71,\n",
              " 'reed': 72,\n",
              " 'ring': 73,\n",
              " 'rope': 74,\n",
              " 'ruler': 75,\n",
              " 'sail': 76,\n",
              " 'sandal': 77,\n",
              " 'semen': 78,\n",
              " 'small ring': 79,\n",
              " 'snake': 80,\n",
              " 'soldier': 81,\n",
              " 'star': 82,\n",
              " 'stick': 83,\n",
              " 'swallow': 84,\n",
              " 'this': 85,\n",
              " 'to be dead': 86,\n",
              " 'to protect': 87,\n",
              " 'to say': 88,\n",
              " 'turtle': 89,\n",
              " 'viper': 90,\n",
              " 'wall': 91,\n",
              " 'water': 92,\n",
              " 'woman': 93,\n",
              " 'you': 94}"
            ]
          },
          "metadata": {},
          "execution_count": 4
        }
      ],
      "source": [
        "train_set.class_indices"
      ]
    },
    {
      "cell_type": "code",
      "execution_count": null,
      "metadata": {
        "colab": {
          "base_uri": "https://localhost:8080/"
        },
        "id": "n1xarTkyCTEH",
        "outputId": "57e6f246-e69b-4e3e-bfd7-ccd7f2d749d0"
      },
      "outputs": [
        {
          "output_type": "stream",
          "name": "stdout",
          "text": [
            "Found 3890 files belonging to 95 classes.\n",
            "Using 3501 files for training.\n"
          ]
        }
      ],
      "source": [
        "batch_size = 64\n",
        "imageSize = 224\n",
        "\n",
        "target_dims = (imageSize, imageSize, 3)\n",
        "num_classes = 95\n",
        "\n",
        "train_len = 3890\n",
        "base_dir = os.path.join(os.getcwd(), \"/content/drive/MyDrive/GP NTI\")\n",
        "train_dir = os.path.join(base_dir, '/content/drive/MyDrive/GP NTI/Train')\n",
        "train_ds = tf.keras.utils.image_dataset_from_directory(\n",
        "    train_dir,\n",
        "    validation_split=0.1,\n",
        "    subset=\"training\",\n",
        "    seed=123,\n",
        "    image_size=(imageSize, imageSize),\n",
        "    batch_size=batch_size)\n",
        "              "
      ]
    },
    {
      "cell_type": "code",
      "execution_count": null,
      "metadata": {
        "colab": {
          "base_uri": "https://localhost:8080/"
        },
        "id": "BL6CZZz0Gu_t",
        "outputId": "73c3b9dd-bf0a-42f9-cb3b-0b6d102a628c"
      },
      "outputs": [
        {
          "output_type": "stream",
          "name": "stdout",
          "text": [
            "Found 3890 files belonging to 95 classes.\n",
            "Using 350 files for validation.\n"
          ]
        }
      ],
      "source": [
        "validation_ds = tf.keras.utils.image_dataset_from_directory(\n",
        "    train_dir,\n",
        "    validation_split=0.09,\n",
        "    subset=\"validation\",\n",
        "    seed=123,\n",
        "    image_size=(imageSize, imageSize),\n",
        "    batch_size=batch_size)"
      ]
    },
    {
      "cell_type": "code",
      "execution_count": null,
      "metadata": {
        "colab": {
          "base_uri": "https://localhost:8080/"
        },
        "id": "aLUxGQjFHI9z",
        "outputId": "fb5e6a49-4252-4dec-9c04-8c0c193a2f2d"
      },
      "outputs": [
        {
          "output_type": "stream",
          "name": "stdout",
          "text": [
            "Found 3890 files belonging to 95 classes.\n",
            "Using 38 files for validation.\n"
          ]
        }
      ],
      "source": [
        "test_ds = tf.keras.utils.image_dataset_from_directory(\n",
        "    train_dir,\n",
        "    validation_split=0.01,\n",
        "    subset=\"validation\",\n",
        "    seed=123,\n",
        "    image_size=(imageSize, imageSize),\n",
        "    batch_size=batch_size)"
      ]
    },
    {
      "cell_type": "code",
      "execution_count": null,
      "metadata": {
        "colab": {
          "base_uri": "https://localhost:8080/"
        },
        "id": "ImVXOSFGzniC",
        "outputId": "45cea3a1-4813-4123-9cac-db52446986ee"
      },
      "outputs": [
        {
          "output_type": "execute_result",
          "data": {
            "text/plain": [
              "{'100': 0,\n",
              " 'Her': 1,\n",
              " 'Woman': 2,\n",
              " 'among': 3,\n",
              " 'angry': 4,\n",
              " 'ankh': 5,\n",
              " 'aroura': 6,\n",
              " 'at': 7,\n",
              " 'bad thinking': 8,\n",
              " 'bandage': 9,\n",
              " 'bee': 10,\n",
              " 'belongs': 11,\n",
              " 'birth': 12,\n",
              " 'board game': 13,\n",
              " 'book': 14,\n",
              " 'boy': 15,\n",
              " 'branch': 16,\n",
              " 'bread': 17,\n",
              " 'brewer': 18,\n",
              " 'builder': 19,\n",
              " 'bury': 20,\n",
              " 'canal': 21,\n",
              " 'cloth on pole': 22,\n",
              " 'cobra': 23,\n",
              " 'composite_bow': 24,\n",
              " 'cooked': 25,\n",
              " 'corpse': 26,\n",
              " 'dessert': 27,\n",
              " 'divide': 28,\n",
              " 'duck': 29,\n",
              " 'elephant': 30,\n",
              " 'enclosed mound': 31,\n",
              " 'eye': 32,\n",
              " 'fabric': 33,\n",
              " 'face': 34,\n",
              " 'falcon': 35,\n",
              " 'fingre': 36,\n",
              " 'fish': 37,\n",
              " 'flail': 38,\n",
              " 'folded': 39,\n",
              " 'foot': 40,\n",
              " 'galena': 41,\n",
              " 'giraffe': 42,\n",
              " 'he': 43,\n",
              " 'hit': 44,\n",
              " 'horn': 45,\n",
              " 'king': 46,\n",
              " 'leg': 47,\n",
              " 'length of a human arm': 48,\n",
              " 'life spirit': 49,\n",
              " 'limits': 50,\n",
              " 'lion': 51,\n",
              " 'lizard': 52,\n",
              " 'loaf': 53,\n",
              " 'loaf of bread': 54,\n",
              " 'man': 55,\n",
              " 'mascot': 56,\n",
              " 'meet': 57,\n",
              " 'mother': 58,\n",
              " 'mouth': 59,\n",
              " 'musical instrument': 60,\n",
              " 'nile fish': 61,\n",
              " 'not': 62,\n",
              " 'now': 63,\n",
              " 'nurse': 64,\n",
              " 'nursing': 65,\n",
              " 'occur': 66,\n",
              " 'one': 67,\n",
              " 'owl': 68,\n",
              " 'pair': 69,\n",
              " 'papyrus scroll': 70,\n",
              " 'pool': 71,\n",
              " 'quailchick': 72,\n",
              " 'reed': 73,\n",
              " 'ring': 74,\n",
              " 'rope': 75,\n",
              " 'ruler': 76,\n",
              " 'sail': 77,\n",
              " 'sandal': 78,\n",
              " 'semen': 79,\n",
              " 'small ring': 80,\n",
              " 'snake': 81,\n",
              " 'soldier': 82,\n",
              " 'star': 83,\n",
              " 'stick': 84,\n",
              " 'swallow': 85,\n",
              " 'this': 86,\n",
              " 'to be dead': 87,\n",
              " 'to prodect': 88,\n",
              " 'to say': 89,\n",
              " 'turtle': 90,\n",
              " 'viper': 91,\n",
              " 'wall': 92,\n",
              " 'water': 93,\n",
              " 'you': 94}"
            ]
          },
          "metadata": {},
          "execution_count": 8
        }
      ],
      "source": [
        "test_set.class_indices"
      ]
    },
    {
      "cell_type": "markdown",
      "source": [
        "# **Build Model**"
      ],
      "metadata": {
        "id": "rVmZ7Zon5cI_"
      }
    },
    {
      "cell_type": "code",
      "execution_count": null,
      "metadata": {
        "id": "6kVhzVM60ILy",
        "colab": {
          "base_uri": "https://localhost:8080/"
        },
        "outputId": "8c8c201d-0c5d-4cfe-a1d4-fcdf4481b443"
      },
      "outputs": [
        {
          "output_type": "stream",
          "name": "stdout",
          "text": [
            "Downloading data from https://storage.googleapis.com/tensorflow/keras-applications/resnet/resnet50_weights_tf_dim_ordering_tf_kernels_notop.h5\n",
            "94773248/94765736 [==============================] - 0s 0us/step\n",
            "94781440/94765736 [==============================] - 0s 0us/step\n"
          ]
        }
      ],
      "source": [
        "resnet_model = Sequential()\n",
        "pretrained_model= tf.keras.applications.ResNet50(include_top=False,\n",
        "                   input_shape=(224,224,3),\n",
        "                   pooling='avg',classes=95,\n",
        "                   weights='imagenet')\n",
        "for layer in pretrained_model.layers:\n",
        "        layer.trainable=False\n",
        "        \n",
        "resnet_model.add(pretrained_model)\n",
        "resnet_model.add(Flatten())\n",
        "resnet_model.add(Dense(512, activation='relu'))\n",
        "resnet_model.add(Dense(95, activation='softmax'))"
      ]
    },
    {
      "cell_type": "code",
      "execution_count": null,
      "metadata": {
        "colab": {
          "base_uri": "https://localhost:8080/"
        },
        "id": "UOitw6mY0P-Q",
        "outputId": "fb3ade15-aabd-4c67-f3ec-59977cd91f61"
      },
      "outputs": [
        {
          "output_type": "stream",
          "name": "stdout",
          "text": [
            "Model: \"sequential\"\n",
            "_________________________________________________________________\n",
            " Layer (type)                Output Shape              Param #   \n",
            "=================================================================\n",
            " resnet50 (Functional)       (None, 2048)              23587712  \n",
            "                                                                 \n",
            " flatten (Flatten)           (None, 2048)              0         \n",
            "                                                                 \n",
            " dense (Dense)               (None, 512)               1049088   \n",
            "                                                                 \n",
            " dense_1 (Dense)             (None, 95)                48735     \n",
            "                                                                 \n",
            "=================================================================\n",
            "Total params: 24,685,535\n",
            "Trainable params: 1,097,823\n",
            "Non-trainable params: 23,587,712\n",
            "_________________________________________________________________\n"
          ]
        }
      ],
      "source": [
        "resnet_model.summary()"
      ]
    },
    {
      "cell_type": "code",
      "source": [
        "from tensorflow.keras.utils import plot_model\n",
        "plot_model(model= resnet_model , show_shapes=True)"
      ],
      "metadata": {
        "colab": {
          "base_uri": "https://localhost:8080/",
          "height": 533
        },
        "id": "9Q1PGISO5oYh",
        "outputId": "1d2007af-cf0d-4e2b-95bb-d9b4d13323f7"
      },
      "execution_count": null,
      "outputs": [
        {
          "output_type": "execute_result",
          "data": {
            "image/png": "[encoded data removed]",
            "text/plain": [
              "<IPython.core.display.Image object>"
            ]
          },
          "metadata": {},
          "execution_count": 16
        }
      ]
    },
    {
      "cell_type": "markdown",
      "source": [
        "**compile Model:**"
      ],
      "metadata": {
        "id": "ei55nVza5pix"
      }
    },
    {
      "cell_type": "code",
      "execution_count": null,
      "metadata": {
        "colab": {
          "base_uri": "https://localhost:8080/"
        },
        "id": "k1ZIQuW20XZT",
        "outputId": "6e1d40de-f2ab-4f8b-c9e1-efe9de9cbe12"
      },
      "outputs": [
        {
          "output_type": "stream",
          "name": "stderr",
          "text": [
            "/usr/local/lib/python3.7/dist-packages/keras/optimizer_v2/adam.py:105: UserWarning: The `lr` argument is deprecated, use `learning_rate` instead.\n",
            "  super(Adam, self).__init__(name, **kwargs)\n"
          ]
        }
      ],
      "source": [
        "resnet_model.compile(optimizer=Adam(lr=0.001),loss='sparse_categorical_crossentropy',metrics=['accuracy'])"
      ]
    },
    {
      "cell_type": "markdown",
      "source": [
        "**Train Model:**"
      ],
      "metadata": {
        "id": "J8cgVGXC5wde"
      }
    },
    {
      "cell_type": "code",
      "execution_count": null,
      "metadata": {
        "id": "jdQS9RGrInVD",
        "colab": {
          "base_uri": "https://localhost:8080/"
        },
        "outputId": "ef4210df-2014-43ee-abb3-8143999113f6"
      },
      "outputs": [
        {
          "output_type": "stream",
          "name": "stdout",
          "text": [
            "Epoch 1/10\n",
            "55/55 [==============================] - 1759s 27s/step - loss: 1.3549 - accuracy: 0.7044 - val_loss: 0.2659 - val_accuracy: 0.9086\n",
            "Epoch 2/10\n",
            "55/55 [==============================] - 14s 227ms/step - loss: 0.1877 - accuracy: 0.9497 - val_loss: 0.1741 - val_accuracy: 0.9629\n",
            "Epoch 3/10\n",
            "55/55 [==============================] - 14s 227ms/step - loss: 0.1159 - accuracy: 0.9709 - val_loss: 0.1920 - val_accuracy: 0.9657\n",
            "Epoch 4/10\n",
            "55/55 [==============================] - 14s 227ms/step - loss: 0.0839 - accuracy: 0.9754 - val_loss: 0.2437 - val_accuracy: 0.9543\n",
            "Epoch 5/10\n",
            "55/55 [==============================] - 14s 228ms/step - loss: 0.0718 - accuracy: 0.9797 - val_loss: 0.1241 - val_accuracy: 0.9686\n",
            "Epoch 6/10\n",
            "55/55 [==============================] - 14s 229ms/step - loss: 0.0722 - accuracy: 0.9780 - val_loss: 0.1383 - val_accuracy: 0.9743\n",
            "Epoch 7/10\n",
            "55/55 [==============================] - 14s 229ms/step - loss: 0.1037 - accuracy: 0.9769 - val_loss: 0.0666 - val_accuracy: 0.9743\n",
            "Epoch 8/10\n",
            "55/55 [==============================] - 14s 230ms/step - loss: 0.0481 - accuracy: 0.9826 - val_loss: 0.0936 - val_accuracy: 0.9714\n",
            "Epoch 9/10\n",
            "55/55 [==============================] - 15s 248ms/step - loss: 0.0430 - accuracy: 0.9851 - val_loss: 0.0700 - val_accuracy: 0.9743\n",
            "Epoch 10/10\n",
            "55/55 [==============================] - 14s 231ms/step - loss: 0.0414 - accuracy: 0.9863 - val_loss: 0.1026 - val_accuracy: 0.9686\n"
          ]
        }
      ],
      "source": [
        "history = resnet_model.fit(train_ds,\n",
        "                           batch_size=64,\n",
        "                           validation_batch_size=64,\n",
        "                           validation_data=validation_ds,\n",
        "                           epochs=10)"
      ]
    },
    {
      "cell_type": "markdown",
      "source": [
        "# **Plotting**"
      ],
      "metadata": {
        "id": "IOIQdhl958Kx"
      }
    },
    {
      "cell_type": "code",
      "source": [
        "# Plotting Loss & Accuracy Graphs\n",
        "plt.figure(figsize=(12, 12))\n",
        "plt.subplot(3, 2, 1)\n",
        "plt.plot(history.history['accuracy'], label = 'accuracy')\n",
        "plt.plot(history.history['val_accuracy'], label = 'val_accuracy')\n",
        "plt.xlabel('epoch')\n",
        "plt.ylabel('accuracy')\n",
        "plt.ylim(0,1)\n",
        "plt.legend()\n",
        "plt.show()"
      ],
      "metadata": {
        "colab": {
          "base_uri": "https://localhost:8080/",
          "height": 258
        },
        "id": "5HOBPsb7UYka",
        "outputId": "db93e4be-4337-42d3-f7e5-1589330dad3f"
      },
      "execution_count": null,
      "outputs": [
        {
          "output_type": "display_data",
          "data": {
            "text/plain": [
              "<Figure size 864x864 with 1 Axes>"
            ],
            "image/png": "[encoded data removed]"
          },
          "metadata": {
            "needs_background": "light"
          }
        }
      ]
    },
    {
      "cell_type": "code",
      "source": [
        "# Plotting Loss & Accuracy Graphs\n",
        "plt.figure(figsize=(12, 12))\n",
        "plt.subplot(3, 2, 2)\n",
        "plt.plot(history.history['loss'], label = 'loss')\n",
        "plt.plot(history.history['val_loss'], label = 'val_loss')\n",
        "plt.xlabel('epoch')\n",
        "plt.ylabel('loss')\n",
        "plt.legend()\n",
        "plt.show()"
      ],
      "metadata": {
        "colab": {
          "base_uri": "https://localhost:8080/",
          "height": 255
        },
        "id": "pvoUBG9TeV5c",
        "outputId": "18e937ad-0296-4909-d0d1-864a3e05d0b0"
      },
      "execution_count": null,
      "outputs": [
        {
          "output_type": "display_data",
          "data": {
            "text/plain": [
              "<Figure size 864x864 with 1 Axes>"
            ],
            "image/png": "[encoded data removed]"
          },
          "metadata": {
            "needs_background": "light"
          }
        }
      ]
    },
    {
      "cell_type": "markdown",
      "source": [
        "# **Evaluate**"
      ],
      "metadata": {
        "id": "pDnQjBkv6Cyx"
      }
    },
    {
      "cell_type": "code",
      "source": [
        "resnet_model.evaluate(test_ds)"
      ],
      "metadata": {
        "colab": {
          "base_uri": "https://localhost:8080/"
        },
        "id": "E4Q3eUtf4Ehb",
        "outputId": "c05726d7-ffda-47b7-e423-b64cf854edec"
      },
      "execution_count": null,
      "outputs": [
        {
          "output_type": "stream",
          "name": "stdout",
          "text": [
            "1/1 [==============================] - 1s 1s/step - loss: 0.0958 - accuracy: 0.9737\n"
          ]
        },
        {
          "output_type": "execute_result",
          "data": {
            "text/plain": [
              "[0.09583063423633575, 0.9736841917037964]"
            ]
          },
          "metadata": {},
          "execution_count": 21
        }
      ]
    },
    {
      "cell_type": "code",
      "source": [
        "resnet_model.evaluate(train_ds)"
      ],
      "metadata": {
        "colab": {
          "base_uri": "https://localhost:8080/"
        },
        "id": "dlFfjkZX41Ap",
        "outputId": "57ddb7e4-e107-4d7c-be5f-2cce52694151"
      },
      "execution_count": null,
      "outputs": [
        {
          "output_type": "stream",
          "name": "stdout",
          "text": [
            "55/55 [==============================] - 12s 198ms/step - loss: 0.0599 - accuracy: 0.9800\n"
          ]
        },
        {
          "output_type": "execute_result",
          "data": {
            "text/plain": [
              "[0.059868402779102325, 0.9800057411193848]"
            ]
          },
          "metadata": {},
          "execution_count": 22
        }
      ]
    },
    {
      "cell_type": "markdown",
      "source": [
        "# **Prediction**"
      ],
      "metadata": {
        "id": "tlU_sW3c6db3"
      }
    },
    {
      "cell_type": "code",
      "source": [
        "y_pred=resnet_model.predict(test_ds)\n",
        "y_pred.shape"
      ],
      "metadata": {
        "colab": {
          "base_uri": "https://localhost:8080/"
        },
        "id": "4g1Jww7f460D",
        "outputId": "5c409636-87ad-4659-e74e-327f803cf72f"
      },
      "execution_count": null,
      "outputs": [
        {
          "output_type": "execute_result",
          "data": {
            "text/plain": [
              "(38, 95)"
            ]
          },
          "metadata": {},
          "execution_count": 23
        }
      ]
    },
    {
      "cell_type": "code",
      "source": [
        "class_names = train_ds.class_names\n",
        "actual = []\n",
        "pred = []\n",
        "for images, labels in test_ds:\n",
        "    for i in range(0, len(images)):\n",
        "        image = images[i]\n",
        "        image = np.expand_dims(image, axis=0)\n",
        "        result = resnet_model.predict(image)\n",
        "        pred.append(class_names[np.argmax(result)])\n",
        "        actual.append(class_names[labels[i].numpy()])"
      ],
      "metadata": {
        "id": "1m-OC-rp49Gy"
      },
      "execution_count": null,
      "outputs": []
    },
    {
      "cell_type": "code",
      "source": [
        "count=0\n",
        "for i in range(len(actual)):\n",
        "    if actual[i]==pred[i]:\n",
        "        count+=1\n",
        "\n",
        "print(\"Accuracy on test data is: \",(count/len(actual))*100)"
      ],
      "metadata": {
        "colab": {
          "base_uri": "https://localhost:8080/"
        },
        "id": "xc-0RSpA4_7A",
        "outputId": "72666958-1a7e-43a9-9ac3-c9a3f4a76066"
      },
      "execution_count": null,
      "outputs": [
        {
          "output_type": "stream",
          "name": "stdout",
          "text": [
            "Accuracy on test data is:  97.36842105263158\n"
          ]
        }
      ]
    },
    {
      "cell_type": "code",
      "source": [
        "from keras.preprocessing import image\n",
        "img1 =image.load_img('/content/drive/MyDrive/GP NTI/Train/Bury/bury (10).jpg',target_size =(224,224))\n",
        "img1"
      ],
      "metadata": {
        "colab": {
          "base_uri": "https://localhost:8080/",
          "height": 241
        },
        "id": "3ecxxj3z8dsS",
        "outputId": "95e8613a-432f-4270-c44a-bc1d6b9c4859"
      },
      "execution_count": null,
      "outputs": [
        {
          "output_type": "execute_result",
          "data": {
            "text/plain": [
              "<PIL.Image.Image image mode=RGB size=224x224 at 0x7F17EA220C90>"
            ],
            "image/png": "[encoded data removed]"
          },
          "metadata": {},
          "execution_count": 26
        }
      ]
    }
  ],
  "metadata": {
    "accelerator": "GPU",
    "colab": {
      "provenance": []
    },
    "gpuClass": "standard",
    "kernelspec": {
      "display_name": "Python 3",
      "name": "python3"
    },
    "language_info": {
      "name": "python"
    }
  },
  "nbformat": 4,
  "nbformat_minor": 0
}